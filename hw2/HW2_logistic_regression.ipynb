{
 "cells": [
  {
   "cell_type": "markdown",
   "metadata": {
    "colab_type": "text",
    "id": "ueWmxIyWU8fG"
   },
   "source": [
    "# Homework 2\n",
    "\n",
    "**Please type your name and A number here:**"
   ]
  },
  {
   "cell_type": "code",
   "execution_count": 36,
   "metadata": {},
   "outputs": [],
   "source": [
    "Name = \"Tom Lau\"\n",
    "assert Name != \"\", 'Please enter your name in the above quotation marks, thanks!'\n",
    "\n",
    "A_number = \"A02274627\"\n",
    "assert A_number != \"\", 'Please enter your A-number in the above quotation marks, thanks!'"
   ]
  },
  {
   "cell_type": "markdown",
   "metadata": {},
   "source": [
    "In this homework, we will implement a logistic regression from scratch. Your jobs\n",
    "\n",
    "1. Implement the objective function.\n",
    "\n",
    "2. Implement the stochastic gradident descent algorithm to train the logistic regression.\n",
    "\n",
    "3. Implement the mini-batch stochastic gradident descent algorithm to train the logistic regression.\n",
    "\n",
    "4. Submit the .IPYNB file to Canvas.\n",
    "    - Missing the output after execution may hurt your grade.\n",
    "\n",
    "\n",
    "**In this homework, you are not allowed to import other packages, such as PyTorch. You need to write the plain numpy code to implement the algorithms and cannot use sklearn in your implementation.**\n",
    "\n",
    "When computing the gradient and objective function value for GD and mini-batch SGD algorithms, use matrix-vector multiplication rather than a FOR LOOP of vector-vector multiplications.\n",
    "\n",
    "In general, you can expect the following chart regarding the convergence of GD, SGD, and mini-batch SGD.\n",
    "\n",
    "<img src=\"https://docs.google.com/uc?export=download&id=13QpAtDEiaZUbLSPLqzjZTsuCCtbRfnQz\" alt=\"drawing\" width=\"400\"/>\n",
    "\n",
    "**Bonus (15pt)**: add a regularization term to the objective function and train the model based on the new objective function.\n",
    "\n",
    "# 1. Data processing\n",
    "\n",
    "- Download the Diabete dataset from https://www.csie.ntu.edu.tw/~cjlin/libsvmtools/datasets/binary/diabetes\n",
    "- Load the data using sklearn.\n",
    "- Preprocess the data.\n",
    "\n",
    "## 1.1. Load the data"
   ]
  },
  {
   "cell_type": "code",
   "execution_count": 37,
   "metadata": {
    "colab": {},
    "colab_type": "code",
    "id": "FHa_HxmOU8fJ"
   },
   "outputs": [
    {
     "name": "stdout",
     "output_type": "stream",
     "text": [
      "Shape of x: (768, 8)\n",
      "Shape of y: (768,)\n"
     ]
    }
   ],
   "source": [
    "from sklearn import datasets\n",
    "from sklearn import preprocessing\n",
    "import numpy as np\n",
    "import math\n",
    "\n",
    "x_sparse, y = datasets.load_svmlight_file('diabetes.txt')\n",
    "x = x_sparse.toarray()\n",
    "lb = preprocessing.LabelBinarizer()\n",
    "y = lb.fit_transform(y).reshape(-1)\n",
    "print('Shape of x: ' + str(x.shape))\n",
    "print('Shape of y: ' + str(y.shape))"
   ]
  },
  {
   "cell_type": "markdown",
   "metadata": {
    "colab_type": "text",
    "id": "1_6NI-WOU8fP"
   },
   "source": [
    "## 1.2. Partition to training and test sets"
   ]
  },
  {
   "cell_type": "code",
   "execution_count": 38,
   "metadata": {
    "colab": {},
    "colab_type": "code",
    "id": "wY8k5eLOU8fP"
   },
   "outputs": [
    {
     "name": "stdout",
     "output_type": "stream",
     "text": [
      "Shape of x_train: (615, 8)\n",
      "Shape of x_test: (153, 8)\n",
      "Shape of y_train: (615,)\n",
      "Shape of y_test: (153,)\n"
     ]
    }
   ],
   "source": [
    "# partition the data to training and test sets\n",
    "n = x.shape[0]\n",
    "n_train = int(np.ceil(n * 0.8))\n",
    "n_test = n - n_train\n",
    "\n",
    "rand_indices = np.random.permutation(n)\n",
    "train_indices = rand_indices[0:n_train]\n",
    "test_indices = rand_indices[n_train:n]\n",
    "\n",
    "x_train = x[train_indices, :]\n",
    "x_test = x[test_indices, :]\n",
    "y_train = y[train_indices]\n",
    "y_test = y[test_indices]\n",
    "\n",
    "print('Shape of x_train: ' + str(x_train.shape))\n",
    "print('Shape of x_test: ' + str(x_test.shape))\n",
    "print('Shape of y_train: ' + str(y_train.shape))\n",
    "print('Shape of y_test: ' + str(y_test.shape))"
   ]
  },
  {
   "cell_type": "markdown",
   "metadata": {
    "colab_type": "text",
    "id": "GHbhxbJFU8fT"
   },
   "source": [
    "## 1.3. Feature scaling"
   ]
  },
  {
   "cell_type": "markdown",
   "metadata": {
    "colab_type": "text",
    "id": "4T1oT_D-U8fU"
   },
   "source": [
    "Min-max normalization and standardization are two popular feature scaling methods.\n",
    "\n",
    "- Min-max normalization scales the features to the interval $[0, 1]$.\n",
    "- Standardization makes the features have zero mean and unit variance."
   ]
  },
  {
   "cell_type": "code",
   "execution_count": 39,
   "metadata": {
    "colab": {},
    "colab_type": "code",
    "id": "F320GXNdU8fV"
   },
   "outputs": [
    {
     "name": "stdout",
     "output_type": "stream",
     "text": [
      "[[0.35294118 0.74371859 0.59016393 ... 0.50074514 0.23441503 0.48333333]\n",
      " [0.05882353 0.42713568 0.54098361 ... 0.39642326 0.11656704 0.16666667]\n",
      " [0.47058824 0.91959799 0.52459016 ... 0.34724292 0.25362938 0.18333333]\n",
      " ...\n",
      " [0.29411765 0.6080402  0.59016393 ... 0.39046202 0.07130658 0.15      ]\n",
      " [0.05882353 0.63316583 0.49180328 ... 0.44858422 0.11571307 0.43333333]\n",
      " [0.05882353 0.46733668 0.57377049 ... 0.45305516 0.10119556 0.03333333]]\n",
      "max = \n",
      "[1. 1. 1. 1. 1. 1. 1. 1.]\n",
      "min = \n",
      "[0. 0. 0. 0. 0. 0. 0. 0.]\n"
     ]
    }
   ],
   "source": [
    "# Min-Max Normalization\n",
    "d = x.shape[1]\n",
    "xmin = np.min(x, axis=0).reshape(1, d)\n",
    "xmax = np.max(x, axis=0).reshape(1, d)\n",
    "xnew = (x - xmin) / (xmax - xmin)\n",
    "\n",
    "print(xnew)\n",
    "\n",
    "print('max = ')\n",
    "print(np.max(xnew, axis=0))\n",
    "\n",
    "print('min = ')\n",
    "print(np.min(xnew, axis=0))"
   ]
  },
  {
   "cell_type": "code",
   "execution_count": 40,
   "metadata": {
    "colab": {},
    "colab_type": "code",
    "id": "pLkMWyCOU8fZ"
   },
   "outputs": [
    {
     "name": "stdout",
     "output_type": "stream",
     "text": [
      "xnew = \n",
      "[[ 0.63994726  0.84832379  0.14964075 ...  0.20401252  0.46849198\n",
      "   1.4259954 ]\n",
      " [-0.84488505 -1.12339636 -0.16054575 ... -0.68442195 -0.36506078\n",
      "  -0.19067191]\n",
      " [ 1.23388019  1.94372388 -0.26394125 ... -1.10325559  0.60439732\n",
      "  -0.10558415]\n",
      " ...\n",
      " [ 0.3429808   0.00330087  0.14964075 ... -0.73518952 -0.68519336\n",
      "  -0.27575966]\n",
      " [-0.84488505  0.1597866  -0.47073225 ... -0.24020459 -0.37110101\n",
      "   1.17073215]\n",
      " [-0.84488505 -0.8730192   0.04624525 ... -0.20212882 -0.47378505\n",
      "  -0.87137393]]\n",
      "mean = \n",
      "[-7.74843153e-17  3.61400724e-18 -1.32724416e-17  7.76288755e-17\n",
      " -5.49329101e-17  5.12683067e-15  1.92438658e-15  2.19297959e-16]\n",
      "std = \n",
      "[1. 1. 1. 1. 1. 1. 1. 1.]\n"
     ]
    }
   ],
   "source": [
    "# Standardization\n",
    "\n",
    "d = x.shape[1]\n",
    "mu = np.mean(x, axis=0).reshape(1, d)\n",
    "sig = np.std(x, axis=0).reshape(1, d)\n",
    "xnew = (x - mu) / sig\n",
    "\n",
    "print('xnew = ')\n",
    "print(xnew)\n",
    "\n",
    "print('mean = ')\n",
    "print(np.mean(xnew, axis=0))\n",
    "\n",
    "print('std = ')\n",
    "print(np.std(xnew, axis=0))"
   ]
  },
  {
   "cell_type": "markdown",
   "metadata": {
    "colab_type": "text",
    "id": "ODJv-cZGU8fg"
   },
   "source": [
    "### In this homework, we use the standardization to trainsform both training and test features"
   ]
  },
  {
   "cell_type": "code",
   "execution_count": 41,
   "metadata": {
    "colab": {},
    "colab_type": "code",
    "id": "Hh16BVL1U8fh"
   },
   "outputs": [
    {
     "name": "stdout",
     "output_type": "stream",
     "text": [
      "test mean = \n",
      "[ 0.02383185  0.05889404  0.03813316  0.10221417 -0.04044154  0.06590727\n",
      "  0.09834617  0.02086672]\n",
      "test std = \n",
      "[1.06299024 1.00768312 1.02756499 1.03890577 1.00222901 1.02866511\n",
      " 1.03467958 0.98337438]\n"
     ]
    }
   ],
   "source": [
    "# Standardization\n",
    "\n",
    "# calculate mu and sig using the training set\n",
    "d = x_train.shape[1]\n",
    "mu = np.mean(x_train, axis=0).reshape(1, d)\n",
    "sig = np.std(x_train, axis=0).reshape(1, d)\n",
    "\n",
    "# transform the training features\n",
    "x_train = (x_train - mu) / sig\n",
    "\n",
    "# transform the test features\n",
    "x_test = (x_test - mu) / sig\n",
    "\n",
    "\n",
    "print('test mean = ')\n",
    "print(np.mean(x_test, axis=0))\n",
    "\n",
    "print('test std = ')\n",
    "print(np.std(x_test, axis=0))"
   ]
  },
  {
   "cell_type": "markdown",
   "metadata": {
    "colab_type": "text",
    "id": "TBn7Lj6AU8fp"
   },
   "source": [
    "# 2. Logistic regression model\n",
    "## Define the sigmoid function\n"
   ]
  },
  {
   "cell_type": "code",
   "execution_count": 42,
   "metadata": {
    "colab": {},
    "colab_type": "code",
    "id": "aK2j8pVKQ8OT"
   },
   "outputs": [],
   "source": [
    "def _sigmoid(z):\n",
    "    # Sigmoid function can be used to calculate probability.\n",
    "    # To avoid overflow, minimum/maximum output value is set.\n",
    "    return np.clip(1 / (1.0 + np.exp(-z)), 1e-8, 1 - (1e-8))\n",
    "\n",
    "def _f(X, w, b):\n",
    "    # This is the logistic regression function, parameterized by w and b\n",
    "    #\n",
    "    # Arguements:\n",
    "    #     X: input data, shape = [n or batch_size, data_dimension]\n",
    "    #     w: weight vector, shape = [data_dimension, ]\n",
    "    #     b: bias, scalar\n",
    "    # Output:\n",
    "    #     predicted probability of each row of X being positively labeled, shape = [n or batch_size, ]\n",
    "    return _sigmoid(np.matmul(X, w) + b)"
   ]
  },
  {
   "cell_type": "markdown",
   "metadata": {
    "colab_type": "text",
    "id": "xpld_Qg-RB1a"
   },
   "source": [
    "The objective function is $L(\\mathbf{w}; \\mathbf{X}, \\mathbf{y})=\\sum_{i=1}^n -[y_i \\log \\hat y_i + (1-y_i)\\log (1-\\hat y_i)]$, where $\\hat y_i = \\sigma (\\mathbf{w}^T \\mathbf{x}_i +b)$.\n",
    "\n",
    "<font color='red'> **rubic={20 points}** </font> "
   ]
  },
  {
   "cell_type": "code",
   "execution_count": 43,
   "metadata": {
    "colab": {},
    "colab_type": "code",
    "id": "7me0eR0cU8fq"
   },
   "outputs": [],
   "source": [
    "\n",
    "\n",
    "\n",
    "def _cross_entropy_loss(y_pred, Y_label):\n",
    "    # This function computes the cross entropy.\n",
    "    #\n",
    "    # Arguements:\n",
    "    #     y_pred: probabilistic predictions, float vector\n",
    "    #     Y_label: ground truth labels,  vector\n",
    "    # Output:\n",
    "    #     cross entropy: scalar\n",
    "\n",
    "    ## write your code here. You CANNOT use for loop here.\n",
    "    cross_entropy  = -sum(Y_label * np.log(y_pred))\n",
    "    return cross_entropy"
   ]
  },
  {
   "cell_type": "code",
   "execution_count": 44,
   "metadata": {
    "colab": {},
    "colab_type": "code",
    "id": "fhSa5351U8ft"
   },
   "outputs": [
    {
     "name": "stdout",
     "output_type": "stream",
     "text": [
      "Initial objective function value = 282.8040496684583\n"
     ]
    }
   ],
   "source": [
    "# initialize w, b\n",
    "d = x_train.shape[1]\n",
    "w = np.zeros(d)\n",
    "b = np.zeros(1)\n",
    "# evaluate the objective function value at w\n",
    "y_pred = _f(x_train, w, b)\n",
    "objval0 = _cross_entropy_loss(y_pred, y_train)\n",
    "print('Initial objective function value = ' + str(objval0))"
   ]
  },
  {
   "cell_type": "markdown",
   "metadata": {
    "colab_type": "text",
    "id": "mKtSRP2lU8fx"
   },
   "source": [
    "# 3. Numerical optimization"
   ]
  },
  {
   "cell_type": "markdown",
   "metadata": {
    "colab_type": "text",
    "id": "UH9nycupU8fx"
   },
   "source": [
    "## 3.1. Calculate the full gradient\n",
    "\n",
    "The gradient at $w$ is $g = \\frac{1}{n} \\sum_{i=1}^n [\\sigma (\\mathbf{w}^T \\mathbf{x}_i + b)-y_i]\\mathbf{x}_i$"
   ]
  },
  {
   "cell_type": "code",
   "execution_count": 45,
   "metadata": {
    "colab": {},
    "colab_type": "code",
    "id": "kWp8JOYBOFZX"
   },
   "outputs": [],
   "source": [
    "# Calculate the gradient\n",
    "# Inputs:\n",
    "#     X: n-by-d matrix\n",
    "#     Y_label: n-by-1 matrix\n",
    "#     w: d-by-1 matrix\n",
    "#     b: scalar\n",
    "# Return:\n",
    "#     w_grad: d-by-1 matrix, full gradient\n",
    "#     b_grad: scalar\n",
    "def _gradient(X, Y_label, w, b):\n",
    "    # This function computes the gradient of cross entropy loss with respect to weight w and bias b.\n",
    "    y_pred = _f(X, w, b)\n",
    "    pred_error = y_pred - Y_label\n",
    "    w_grad = np.mean(pred_error * X.T, 1)\n",
    "    b_grad = np.mean(pred_error)\n",
    "    return w_grad, b_grad"
   ]
  },
  {
   "cell_type": "markdown",
   "metadata": {
    "colab_type": "text",
    "id": "A2zIXNwnU8f2"
   },
   "source": [
    "## 3.2. Gradient descent\n"
   ]
  },
  {
   "cell_type": "code",
   "execution_count": 46,
   "metadata": {
    "colab": {},
    "colab_type": "code",
    "id": "1RBVx_34U8f2"
   },
   "outputs": [],
   "source": [
    "# Gradient descent for solving logistic regression\n",
    "# Inputs:\n",
    "#     x_train: n-by-d matrix\n",
    "#     y_train: n-by-1 matrix\n",
    "#     stepsize: scalar\n",
    "#     max_iter: integer, the maximal iterations\n",
    "# Return:\n",
    "#     w: d-by-1 matrix, the solution\n",
    "#     b: scalr, the solution\n",
    "#     objvals: a record of each epoch's objective value\n",
    "def grad_descent(x_train, y_train, w, b, stepsize, max_iter=150):\n",
    "    n, d = x_train.shape\n",
    "    objvals = np.zeros(max_iter) # store the objective values\n",
    "    \n",
    "    for t in range(max_iter):\n",
    "        y_pred = _f(x_train, w, b)\n",
    "        objval = _cross_entropy_loss(y_pred, y_train)\n",
    "        objvals[t] = objval/n\n",
    "        print('Objective value at t=' + str(t) + ' is ' + str(objval/n))\n",
    "        w_grad, b_grad = _gradient(x_train, y_train, w, b)\n",
    "        w -= stepsize * w_grad\n",
    "        b -= stepsize * b_grad\n",
    "    stepsize *= 0.9 # decrease step size\n",
    "    \n",
    "    return w, b, objvals"
   ]
  },
  {
   "cell_type": "code",
   "execution_count": 47,
   "metadata": {
    "colab": {},
    "colab_type": "code",
    "id": "ZNZqy-TbU8f7"
   },
   "outputs": [
    {
     "name": "stdout",
     "output_type": "stream",
     "text": [
      "Objective value at t=0 is 0.45984398320074515\n",
      "Objective value at t=1 is 0.44046673055283014\n",
      "Objective value at t=2 is 0.42354758179260665\n",
      "Objective value at t=3 is 0.4086883586933437\n",
      "Objective value at t=4 is 0.3955551681943903\n",
      "Objective value at t=5 is 0.38387224164818967\n",
      "Objective value at t=6 is 0.3734135919146812\n",
      "Objective value at t=7 is 0.3639945182545328\n",
      "Objective value at t=8 is 0.3554639331573104\n",
      "Objective value at t=9 is 0.3476978502802712\n",
      "Objective value at t=10 is 0.3405940464603663\n",
      "Objective value at t=11 is 0.33406777027250645\n",
      "Objective value at t=12 is 0.3280483270847584\n",
      "Objective value at t=13 is 0.3224763737622382\n",
      "Objective value at t=14 is 0.31730177728012765\n",
      "Objective value at t=15 is 0.31248191703009537\n",
      "Objective value at t=16 is 0.30798033468705666\n",
      "Objective value at t=17 is 0.3037656560689557\n",
      "Objective value at t=18 is 0.2998107261256019\n",
      "Objective value at t=19 is 0.2960919113917395\n",
      "Objective value at t=20 is 0.2925885345116103\n",
      "Objective value at t=21 is 0.28928241337187527\n",
      "Objective value at t=22 is 0.28615748347876846\n",
      "Objective value at t=23 is 0.2831994869027803\n",
      "Objective value at t=24 is 0.2803957147207399\n",
      "Objective value at t=25 is 0.277734792666834\n",
      "Objective value at t=26 is 0.2752065018564343\n",
      "Objective value at t=27 is 0.27280162811835756\n",
      "Objective value at t=28 is 0.2705118347750752\n",
      "Objective value at t=29 is 0.2683295547317705\n",
      "Objective value at t=30 is 0.26624789853887737\n",
      "Objective value at t=31 is 0.2642605757280161\n",
      "Objective value at t=32 is 0.2623618272257006\n",
      "Objective value at t=33 is 0.26054636705153306\n",
      "Objective value at t=34 is 0.258809331829929\n",
      "Objective value at t=35 is 0.2571462369037798\n",
      "Objective value at t=36 is 0.255552938048005\n",
      "Objective value at t=37 is 0.2540255979509953\n",
      "Objective value at t=38 is 0.2525606567704665\n",
      "Objective value at t=39 is 0.2511548061835385\n",
      "Objective value at t=40 is 0.24980496644386044\n",
      "Objective value at t=41 is 0.24850826603527432\n",
      "Objective value at t=42 is 0.24726202357488566\n",
      "Objective value at t=43 is 0.24606373167104506\n",
      "Objective value at t=44 is 0.2449110424855549\n",
      "Objective value at t=45 is 0.24380175478605262\n",
      "Objective value at t=46 is 0.2427338023052012\n",
      "Objective value at t=47 is 0.24170524324916817\n",
      "Objective value at t=48 is 0.24071425081963335\n",
      "Objective value at t=49 is 0.23975910463200625\n",
      "Objective value at t=50 is 0.23883818292819303\n",
      "Objective value at t=51 is 0.23794995549554374\n",
      "Objective value at t=52 is 0.23709297721500058\n",
      "Objective value at t=53 is 0.23626588217117336\n",
      "Objective value at t=54 is 0.23546737826543981\n",
      "Objective value at t=55 is 0.23469624228032726\n",
      "Objective value at t=56 is 0.23395131534964891\n",
      "Objective value at t=57 is 0.23323149879421515\n",
      "Objective value at t=58 is 0.23253575028759366\n",
      "Objective value at t=59 is 0.23186308032042316\n",
      "Objective value at t=60 is 0.23121254893530585\n",
      "Objective value at t=61 is 0.23058326270738522\n",
      "Objective value at t=62 is 0.22997437194837997\n",
      "Objective value at t=63 is 0.22938506811422524\n",
      "Objective value at t=64 is 0.22881458139853406\n",
      "Objective value at t=65 is 0.2282621784959134\n",
      "Objective value at t=66 is 0.22772716052079112\n",
      "Objective value at t=67 is 0.22720886106882152\n",
      "Objective value at t=68 is 0.22670664440920887\n",
      "Objective value at t=69 is 0.22621990379741092\n",
      "Objective value at t=70 is 0.22574805989866858\n",
      "Objective value at t=71 is 0.22529055931371542\n",
      "Objective value at t=72 is 0.22484687319879906\n",
      "Objective value at t=73 is 0.2244164959728628\n",
      "Objective value at t=74 is 0.22399894410537477\n",
      "Objective value at t=75 is 0.22359375497885395\n",
      "Objective value at t=76 is 0.22320048582066962\n",
      "Objective value at t=77 is 0.22281871269913436\n",
      "Objective value at t=78 is 0.22244802957934626\n",
      "Objective value at t=79 is 0.2220880474346033\n",
      "Objective value at t=80 is 0.2217383934095504\n",
      "Objective value at t=81 is 0.22139871003153486\n",
      "Objective value at t=82 is 0.22106865446692853\n",
      "Objective value at t=83 is 0.22074789781941465\n",
      "Objective value at t=84 is 0.22043612446748792\n",
      "Objective value at t=85 is 0.22013303143861282\n",
      "Objective value at t=86 is 0.2198383278176861\n",
      "Objective value at t=87 is 0.21955173418761603\n",
      "Objective value at t=88 is 0.21927298210000587\n",
      "Objective value at t=89 is 0.21900181357405696\n",
      "Objective value at t=90 is 0.2187379806219624\n",
      "Objective value at t=91 is 0.21848124479916664\n",
      "Objective value at t=92 is 0.21823137677799434\n",
      "Objective value at t=93 is 0.21798815594324725\n",
      "Objective value at t=94 is 0.21775137000846911\n",
      "Objective value at t=95 is 0.2175208146516651\n",
      "Objective value at t=96 is 0.2172962931693438\n",
      "Objective value at t=97 is 0.21707761614782417\n",
      "Objective value at t=98 is 0.2168646011508255\n",
      "Objective value at t=99 is 0.2166570724224093\n",
      "Objective value at t=100 is 0.21645486060442234\n",
      "Objective value at t=101 is 0.21625780246762222\n",
      "Objective value at t=102 is 0.2160657406557389\n",
      "Objective value at t=103 is 0.21587852344175593\n",
      "Objective value at t=104 is 0.21569600449574938\n",
      "Objective value at t=105 is 0.21551804266366648\n",
      "Objective value at t=106 is 0.21534450175644979\n",
      "Objective value at t=107 is 0.21517525034896243\n",
      "Objective value at t=108 is 0.21501016158819672\n",
      "Objective value at t=109 is 0.21484911301028173\n",
      "Objective value at t=110 is 0.21469198636582734\n",
      "Objective value at t=111 is 0.21453866745318204\n",
      "Objective value at t=112 is 0.21438904595919364\n",
      "Objective value at t=113 is 0.21424301530709164\n",
      "Objective value at t=114 is 0.21410047251113612\n",
      "Objective value at t=115 is 0.2139613180376841\n",
      "Objective value at t=116 is 0.2138254556723655\n",
      "Objective value at t=117 is 0.21369279239305417\n",
      "Objective value at t=118 is 0.21356323824835866\n",
      "Objective value at t=119 is 0.2134367062413538\n",
      "Objective value at t=120 is 0.21331311221830715\n",
      "Objective value at t=121 is 0.2131923747621501\n",
      "Objective value at t=122 is 0.21307441509047564\n",
      "Objective value at t=123 is 0.2129591569578375\n",
      "Objective value at t=124 is 0.21284652656215078\n",
      "Objective value at t=125 is 0.2127364524550044\n",
      "Objective value at t=126 is 0.21262886545569323\n",
      "Objective value at t=127 is 0.21252369856880426\n",
      "Objective value at t=128 is 0.21242088690518898\n",
      "Objective value at t=129 is 0.2123203676061657\n",
      "Objective value at t=130 is 0.21222207977080418\n",
      "Objective value at t=131 is 0.2121259643861522\n",
      "Objective value at t=132 is 0.21203196426027157\n",
      "Objective value at t=133 is 0.21194002395795425\n",
      "Objective value at t=134 is 0.21185008973900255\n",
      "Objective value at t=135 is 0.21176210949895452\n",
      "Objective value at t=136 is 0.2116760327121496\n",
      "Objective value at t=137 is 0.21159181037702915\n",
      "Objective value at t=138 is 0.21150939496357526\n",
      "Objective value at t=139 is 0.2114287403627922\n",
      "Objective value at t=140 is 0.21134980183814478\n",
      "Objective value at t=141 is 0.21127253597886608\n",
      "Objective value at t=142 is 0.21119690065505647\n",
      "Objective value at t=143 is 0.2111228549744949\n",
      "Objective value at t=144 is 0.2110503592410914\n",
      "Objective value at t=145 is 0.21097937491491112\n",
      "Objective value at t=146 is 0.21090986457370228\n",
      "Objective value at t=147 is 0.21084179187586477\n",
      "Objective value at t=148 is 0.2107751215248026\n",
      "Objective value at t=149 is 0.21070981923459675\n"
     ]
    }
   ],
   "source": [
    "# example\n",
    "d = x_train.shape[1]\n",
    "w = np.zeros(d)\n",
    "b = np.zeros(1)\n",
    "stepsize = 0.2\n",
    "w, b, objvals_gd = grad_descent(x_train, y_train, w, b, stepsize)"
   ]
  },
  {
   "cell_type": "markdown",
   "metadata": {
    "colab_type": "text",
    "id": "gVrjVsv0U8f-"
   },
   "source": [
    "## 3.3. Stochastic gradient descent (SGD)\n",
    "\n",
    "Define $L_i(\\mathbf{w}; \\mathbf{x}, y)= -[y_i \\log \\hat y_i + (1-y_i)\\log (1-\\hat y_i)]$, where $\\hat y_i = \\sigma (\\mathbf{w}^T \\mathbf{x}_i +b)$.\n",
    "\n",
    "The stochastic gradient at $w$ is $g_i = \\frac{\\partial L_i }{ \\partial w} = [\\sigma (\\mathbf{w}^T \\mathbf{x}_i + b)-y_i]\\mathbf{x}_i$.\n",
    "\n",
    "<font color='red'> **rubic={30 points}** </font> "
   ]
  },
  {
   "cell_type": "code",
   "execution_count": 48,
   "metadata": {
    "colab": {},
    "colab_type": "code",
    "id": "RwJeIIOHU8f-"
   },
   "outputs": [],
   "source": [
    "# Calculate the objective L_i and the gradient of L_i\n",
    "# Inputs (you can revise the inputs of this function):\n",
    "#     xi: 1-by-d matrix\n",
    "#     yi: scalar\n",
    "#     w: d-by-1 matrix\n",
    "#     b: scalar\n",
    "# Return:\n",
    "#     w_grad: d-by-1 matrix, gradient of L_i with respect to w\n",
    "#     b_grad: scalr, gradient of L_i with respect to b\n",
    "def stochastic_objective_gradient(xi, yi, w, b):\n",
    "    ## write your code here\n",
    "    y_pred = _f(xi, w, b)\n",
    "    pred_error = y_pred - yi\n",
    "    w_grad = pred_error * xi\n",
    "    b_grad = np.mean(pred_error)\n",
    "    return w_grad, b_grad"
   ]
  },
  {
   "cell_type": "code",
   "execution_count": 49,
   "metadata": {
    "colab": {},
    "colab_type": "code",
    "id": "BTZtZdhbU8gE"
   },
   "outputs": [],
   "source": [
    "# SGD for solving logistic regression\n",
    "# Inputs:\n",
    "#     x_train: n-by-d matrix\n",
    "#     y_train: n-by-1 matrix\n",
    "#     w: d-by-1 matrix, initialization of w\n",
    "#     b: scalr, initialization of b\n",
    "#     stepsize: scalar\n",
    "#     max_epoch: integer, the maximal epochs\n",
    "# Return:\n",
    "#     w: the solution\n",
    "#     b: the solution\n",
    "#     objvals: record of each epoch's objective value\n",
    "def sgd(x_train, y_train, w, b, stepsize, max_epoch=150):\n",
    "    n, d = x_train.shape\n",
    "    objvals = np.zeros(max_epoch) # store the objective values\n",
    "    for t in range(max_epoch):\n",
    "        # randomly shuffle the samples\n",
    "        rand_indices = np.random.permutation(n)\n",
    "        x_rand = x_train[rand_indices, :]\n",
    "        y_rand = y_train[rand_indices]\n",
    "        \n",
    "        objval = 0 # accumulate the objective values\n",
    "        for i in range(n):\n",
    "            xi = x_rand[i, :] # 1-by-d matrix\n",
    "            yi = float(y_rand[i]) # scalar\n",
    "            y_pred = _f(xi, w, b)\n",
    "            obj = float(_cross_entropy_loss(y_pred, yi))\n",
    "            w_grad, b_grad = stochastic_objective_gradient(xi, yi, w, b)\n",
    "            objval += obj\n",
    "            w -= stepsize * w_grad\n",
    "            b -= stepsize * b_grad\n",
    "        \n",
    "        stepsize *= 0.9 # decrease step size\n",
    "        objvals[t] = objval/n\n",
    "        print('Objective value at epoch t=' + str(t) + ' is ' + str(objval/n))\n",
    "    \n",
    "    return w, b, objvals"
   ]
  },
  {
   "cell_type": "code",
   "execution_count": 50,
   "metadata": {
    "colab": {},
    "colab_type": "code",
    "id": "iWwrX2IUU8gH"
   },
   "outputs": [
    {
     "name": "stdout",
     "output_type": "stream",
     "text": [
      "Objective value at epoch t=0 is 0.2641026859761585\n",
      "Objective value at epoch t=1 is 0.2595893434523344\n",
      "Objective value at epoch t=2 is 0.23323320142384862\n",
      "Objective value at epoch t=3 is 0.23226273610731837\n",
      "Objective value at epoch t=4 is 0.2579644169871582\n",
      "Objective value at epoch t=5 is 0.23689779427448948\n",
      "Objective value at epoch t=6 is 0.23478616187896822\n",
      "Objective value at epoch t=7 is 0.21792369100939504\n",
      "Objective value at epoch t=8 is 0.2405280930450478\n",
      "Objective value at epoch t=9 is 0.22045561347655607\n",
      "Objective value at epoch t=10 is 0.22386873146043632\n",
      "Objective value at epoch t=11 is 0.22835406478574127\n",
      "Objective value at epoch t=12 is 0.21500340789871447\n",
      "Objective value at epoch t=13 is 0.22218859065984833\n",
      "Objective value at epoch t=14 is 0.21386220015921822\n",
      "Objective value at epoch t=15 is 0.22829916776459216\n",
      "Objective value at epoch t=16 is 0.21261320495037647\n",
      "Objective value at epoch t=17 is 0.21336056507358478\n",
      "Objective value at epoch t=18 is 0.21380980363775262\n",
      "Objective value at epoch t=19 is 0.21577964944249248\n",
      "Objective value at epoch t=20 is 0.21036911258830446\n",
      "Objective value at epoch t=21 is 0.21192191937909208\n",
      "Objective value at epoch t=22 is 0.21881171809369604\n",
      "Objective value at epoch t=23 is 0.21452033791449807\n",
      "Objective value at epoch t=24 is 0.2127706744870727\n",
      "Objective value at epoch t=25 is 0.19914054445867493\n",
      "Objective value at epoch t=26 is 0.21135076168725137\n",
      "Objective value at epoch t=27 is 0.21115832216929675\n",
      "Objective value at epoch t=28 is 0.21745063667899686\n",
      "Objective value at epoch t=29 is 0.20908135400153474\n",
      "Objective value at epoch t=30 is 0.20905097204252632\n",
      "Objective value at epoch t=31 is 0.2101244776200973\n",
      "Objective value at epoch t=32 is 0.20848796942419184\n",
      "Objective value at epoch t=33 is 0.21043724312666073\n",
      "Objective value at epoch t=34 is 0.2086984070079473\n",
      "Objective value at epoch t=35 is 0.20539235874808895\n",
      "Objective value at epoch t=36 is 0.20709874947953688\n",
      "Objective value at epoch t=37 is 0.21085546937177152\n",
      "Objective value at epoch t=38 is 0.2072054636154381\n",
      "Objective value at epoch t=39 is 0.20685069574894552\n",
      "Objective value at epoch t=40 is 0.20892930108967006\n",
      "Objective value at epoch t=41 is 0.20764895292251298\n",
      "Objective value at epoch t=42 is 0.20988593063221717\n",
      "Objective value at epoch t=43 is 0.2079161738119317\n",
      "Objective value at epoch t=44 is 0.20641917167048426\n",
      "Objective value at epoch t=45 is 0.20744164659473646\n",
      "Objective value at epoch t=46 is 0.2072563778184521\n",
      "Objective value at epoch t=47 is 0.20637962361020817\n",
      "Objective value at epoch t=48 is 0.2070697540783986\n",
      "Objective value at epoch t=49 is 0.20693611953610452\n",
      "Objective value at epoch t=50 is 0.20791369799815576\n",
      "Objective value at epoch t=51 is 0.20790002521533957\n",
      "Objective value at epoch t=52 is 0.20670537833063293\n",
      "Objective value at epoch t=53 is 0.2064877308242418\n",
      "Objective value at epoch t=54 is 0.20662115130064124\n",
      "Objective value at epoch t=55 is 0.20682949512578658\n",
      "Objective value at epoch t=56 is 0.207223873180034\n",
      "Objective value at epoch t=57 is 0.20673715760398323\n",
      "Objective value at epoch t=58 is 0.2069232703609005\n",
      "Objective value at epoch t=59 is 0.20687961734049484\n",
      "Objective value at epoch t=60 is 0.20731421652314394\n",
      "Objective value at epoch t=61 is 0.2065854993034054\n",
      "Objective value at epoch t=62 is 0.20712685961086486\n",
      "Objective value at epoch t=63 is 0.20676789896206338\n",
      "Objective value at epoch t=64 is 0.2069537068623857\n",
      "Objective value at epoch t=65 is 0.20696918448803736\n",
      "Objective value at epoch t=66 is 0.20716315189066406\n",
      "Objective value at epoch t=67 is 0.20716020353570735\n",
      "Objective value at epoch t=68 is 0.20701835122051715\n",
      "Objective value at epoch t=69 is 0.20695633387009474\n",
      "Objective value at epoch t=70 is 0.20695909524086248\n",
      "Objective value at epoch t=71 is 0.2069908773114055\n",
      "Objective value at epoch t=72 is 0.20690047485672816\n",
      "Objective value at epoch t=73 is 0.2069999103475611\n",
      "Objective value at epoch t=74 is 0.2069403162022395\n",
      "Objective value at epoch t=75 is 0.20703319196066913\n",
      "Objective value at epoch t=76 is 0.2069496603647724\n",
      "Objective value at epoch t=77 is 0.2069511667045664\n",
      "Objective value at epoch t=78 is 0.20695692869528282\n",
      "Objective value at epoch t=79 is 0.2069217414482741\n",
      "Objective value at epoch t=80 is 0.2069443428144906\n",
      "Objective value at epoch t=81 is 0.20697148301100374\n",
      "Objective value at epoch t=82 is 0.20692983413038749\n",
      "Objective value at epoch t=83 is 0.20692596135248437\n",
      "Objective value at epoch t=84 is 0.20692102100393264\n",
      "Objective value at epoch t=85 is 0.20692175364110257\n",
      "Objective value at epoch t=86 is 0.20692651983927954\n",
      "Objective value at epoch t=87 is 0.2069290014604926\n",
      "Objective value at epoch t=88 is 0.20692718137928662\n",
      "Objective value at epoch t=89 is 0.20692038301189244\n",
      "Objective value at epoch t=90 is 0.20690976986911264\n",
      "Objective value at epoch t=91 is 0.2069162581629393\n",
      "Objective value at epoch t=92 is 0.20691561554038002\n",
      "Objective value at epoch t=93 is 0.206918546083928\n",
      "Objective value at epoch t=94 is 0.20692106771115332\n",
      "Objective value at epoch t=95 is 0.20691651759245927\n",
      "Objective value at epoch t=96 is 0.20692174889205595\n",
      "Objective value at epoch t=97 is 0.2069126906382505\n",
      "Objective value at epoch t=98 is 0.20692091258214856\n",
      "Objective value at epoch t=99 is 0.20691981044369107\n",
      "Objective value at epoch t=100 is 0.2069191920910455\n",
      "Objective value at epoch t=101 is 0.20691621322886858\n",
      "Objective value at epoch t=102 is 0.20691794541683953\n",
      "Objective value at epoch t=103 is 0.20692010024776233\n",
      "Objective value at epoch t=104 is 0.2069176252088145\n",
      "Objective value at epoch t=105 is 0.20691521754094855\n",
      "Objective value at epoch t=106 is 0.20691521084382525\n",
      "Objective value at epoch t=107 is 0.20691770709038432\n",
      "Objective value at epoch t=108 is 0.20691400508713267\n",
      "Objective value at epoch t=109 is 0.20691443173339902\n",
      "Objective value at epoch t=110 is 0.20691438445275204\n",
      "Objective value at epoch t=111 is 0.20691437006580649\n",
      "Objective value at epoch t=112 is 0.20691533323223563\n",
      "Objective value at epoch t=113 is 0.20691433205241186\n",
      "Objective value at epoch t=114 is 0.20691497197344\n",
      "Objective value at epoch t=115 is 0.2069152774637483\n",
      "Objective value at epoch t=116 is 0.2069149470443517\n",
      "Objective value at epoch t=117 is 0.20691437028463747\n",
      "Objective value at epoch t=118 is 0.206914792476298\n",
      "Objective value at epoch t=119 is 0.20691417933101872\n",
      "Objective value at epoch t=120 is 0.20691412953752752\n",
      "Objective value at epoch t=121 is 0.20691459366576218\n",
      "Objective value at epoch t=122 is 0.20691416103843469\n",
      "Objective value at epoch t=123 is 0.20691428802298378\n",
      "Objective value at epoch t=124 is 0.2069142474499396\n",
      "Objective value at epoch t=125 is 0.20691424706726563\n",
      "Objective value at epoch t=126 is 0.2069143589453773\n",
      "Objective value at epoch t=127 is 0.2069142275222197\n",
      "Objective value at epoch t=128 is 0.20691416118523276\n",
      "Objective value at epoch t=129 is 0.20691430739819297\n",
      "Objective value at epoch t=130 is 0.2069146179697256\n",
      "Objective value at epoch t=131 is 0.20691429468704065\n",
      "Objective value at epoch t=132 is 0.206914220998105\n",
      "Objective value at epoch t=133 is 0.20691427812704757\n",
      "Objective value at epoch t=134 is 0.20691426680726757\n",
      "Objective value at epoch t=135 is 0.20691424982396117\n",
      "Objective value at epoch t=136 is 0.20691453078220937\n",
      "Objective value at epoch t=137 is 0.20691424242728187\n",
      "Objective value at epoch t=138 is 0.2069143276631151\n",
      "Objective value at epoch t=139 is 0.2069143182794875\n",
      "Objective value at epoch t=140 is 0.20691437893561138\n",
      "Objective value at epoch t=141 is 0.20691427957430614\n",
      "Objective value at epoch t=142 is 0.2069142918671322\n",
      "Objective value at epoch t=143 is 0.20691428962651193\n",
      "Objective value at epoch t=144 is 0.20691431659209195\n",
      "Objective value at epoch t=145 is 0.20691429220840174\n",
      "Objective value at epoch t=146 is 0.20691433358617164\n",
      "Objective value at epoch t=147 is 0.2069143159311386\n",
      "Objective value at epoch t=148 is 0.2069143213852417\n",
      "Objective value at epoch t=149 is 0.2069143027779892\n"
     ]
    }
   ],
   "source": [
    "# example\n",
    "# initialize w, b\n",
    "d = x_train.shape[1]\n",
    "w = np.zeros(d)\n",
    "b = np.zeros(1)\n",
    "stepsize = 0.2\n",
    "w, b, objvals_sgd = sgd(x_train, y_train, w, b, stepsize)"
   ]
  },
  {
   "cell_type": "markdown",
   "metadata": {
    "colab_type": "text",
    "id": "aYKci7dWU8gN"
   },
   "source": [
    "## 3.3. Mini-batch SGD\n",
    "\n",
    "Define $L_I(\\mathbf{w}; \\mathbf{X}, \\mathbf{y})= \\sum_{i \\in I} -[y_i \\log \\hat y_i + (1-y_i)\\log (1-\\hat y_i)]$, where $\\hat y_i = \\sigma (\\mathbf{w}^T \\mathbf{x}_i +b)$, and $I$ is a set containing $b$ indices randomly drawn from $\\{ 1, \\cdots , n \\}$ without replacement.\n",
    "\n",
    "\n",
    "\n",
    "The stochastic gradient at $w$ is $g_I =  \\sum_{i \\in I} [\\sigma (\\mathbf{w}^T \\mathbf{x}_i + b)-y_i]\\mathbf{x}_i$.\n",
    "\n",
    "<font color='red'> **rubic={50 points}** </font> "
   ]
  },
  {
   "cell_type": "code",
   "execution_count": 51,
   "metadata": {
    "colab": {},
    "colab_type": "code",
    "id": "6Owyb4YcXC09"
   },
   "outputs": [],
   "source": [
    "# mini_batch_SGD for solving logistic regression\n",
    "# Inputs:\n",
    "#     x_train: n-by-d matrix\n",
    "#     y_train: n-by-1 matrix\n",
    "#     w: d-by-1 matrix, initialization of w\n",
    "#     b: scalar, initialization of b\n",
    "#     stepsize: scalar\n",
    "#     batch_size: integer, the number of batch size\n",
    "#     max_epoch: integer, the maximal epochs\n",
    "# Return:\n",
    "#     w: the solution\n",
    "#     b: the solution\n",
    "#     objvals: record of each epoch's objective value\n",
    "from xml.etree.ElementInclude import XINCLUDE\n",
    "\n",
    "\n",
    "def mini_batch_sgd(x_train, y_train, w, b, stepsize, batch_size=32, max_epoch=150):\n",
    "    n, d = x_train.shape\n",
    "    objvals = np.zeros(max_epoch) # store the objective values\n",
    "    \n",
    "    for t in range(max_epoch):\n",
    "      objval = 0 # accumulate the objective values\n",
    "      rand_indices = np.random.permutation(n)\n",
    "      x_rand = x_train[rand_indices, :]\n",
    "      y_rand = y_train[rand_indices]\n",
    "\n",
    "      ## write your code here\n",
    "      for i in range(0, n, batch_size):\n",
    "        xi = x_rand[i:i+batch_size, :]\n",
    "        yi = y_rand[i:i+batch_size]\n",
    "        y_pred = _f(xi, w, b)\n",
    "        obj = float(_cross_entropy_loss(y_pred, yi))\n",
    "        w_grad, b_grad = _gradient(xi, yi, w, b)\n",
    "        objval += obj\n",
    "        w -= stepsize * w_grad\n",
    "        b -= stepsize * b_grad\n",
    "\n",
    "      stepsize *= 0.9 # decrease step size\n",
    "      objvals[t] = objval/n\n",
    "      print('Objective value at epoch t=' + str(t) + ' is ' + str(objval/n))\n",
    "    \n",
    "    return w, b, objvals"
   ]
  },
  {
   "cell_type": "code",
   "execution_count": 52,
   "metadata": {
    "colab": {},
    "colab_type": "code",
    "id": "lkhRPei-a8l-"
   },
   "outputs": [
    {
     "name": "stdout",
     "output_type": "stream",
     "text": [
      "Objective value at epoch t=0 is 0.36054296569180594\n",
      "Objective value at epoch t=1 is 0.27192979296712544\n",
      "Objective value at epoch t=2 is 0.2432906779891064\n",
      "Objective value at epoch t=3 is 0.2372868217102111\n",
      "Objective value at epoch t=4 is 0.22828639522720678\n",
      "Objective value at epoch t=5 is 0.22377272337219556\n",
      "Objective value at epoch t=6 is 0.21584591499212388\n",
      "Objective value at epoch t=7 is 0.20877488814349926\n",
      "Objective value at epoch t=8 is 0.21524936878076328\n",
      "Objective value at epoch t=9 is 0.21044261239159925\n",
      "Objective value at epoch t=10 is 0.21223574228327913\n",
      "Objective value at epoch t=11 is 0.21307573420485199\n",
      "Objective value at epoch t=12 is 0.2134412284025433\n",
      "Objective value at epoch t=13 is 0.21176679333766035\n",
      "Objective value at epoch t=14 is 0.21201467515081865\n",
      "Objective value at epoch t=15 is 0.2126592953928031\n",
      "Objective value at epoch t=16 is 0.21018288660275633\n",
      "Objective value at epoch t=17 is 0.2103954432438512\n",
      "Objective value at epoch t=18 is 0.21096087096969768\n",
      "Objective value at epoch t=19 is 0.2111281351178639\n",
      "Objective value at epoch t=20 is 0.20867752317190844\n",
      "Objective value at epoch t=21 is 0.20836245224431715\n",
      "Objective value at epoch t=22 is 0.2076476699597335\n",
      "Objective value at epoch t=23 is 0.20896634130869135\n",
      "Objective value at epoch t=24 is 0.21038411337784022\n",
      "Objective value at epoch t=25 is 0.20895226635405498\n",
      "Objective value at epoch t=26 is 0.20905853010617875\n",
      "Objective value at epoch t=27 is 0.20903764799502994\n",
      "Objective value at epoch t=28 is 0.20969065800638262\n",
      "Objective value at epoch t=29 is 0.20964326869316224\n",
      "Objective value at epoch t=30 is 0.2093442556380084\n",
      "Objective value at epoch t=31 is 0.20932612559781474\n",
      "Objective value at epoch t=32 is 0.20882611004112708\n",
      "Objective value at epoch t=33 is 0.20926652485432357\n",
      "Objective value at epoch t=34 is 0.2090834001183843\n",
      "Objective value at epoch t=35 is 0.20917542413955384\n",
      "Objective value at epoch t=36 is 0.20888948483865374\n",
      "Objective value at epoch t=37 is 0.20890868986429742\n",
      "Objective value at epoch t=38 is 0.20867848654988488\n",
      "Objective value at epoch t=39 is 0.20873228250854484\n",
      "Objective value at epoch t=40 is 0.20889322593682236\n",
      "Objective value at epoch t=41 is 0.20883853193521287\n",
      "Objective value at epoch t=42 is 0.20884810646578336\n",
      "Objective value at epoch t=43 is 0.2087078831645447\n",
      "Objective value at epoch t=44 is 0.2087454467521327\n",
      "Objective value at epoch t=45 is 0.20875631282070037\n",
      "Objective value at epoch t=46 is 0.2087738112920571\n",
      "Objective value at epoch t=47 is 0.20870269223291726\n",
      "Objective value at epoch t=48 is 0.20876510671824433\n",
      "Objective value at epoch t=49 is 0.20877039472851674\n",
      "Objective value at epoch t=50 is 0.20876511322213778\n",
      "Objective value at epoch t=51 is 0.20878288072227005\n",
      "Objective value at epoch t=52 is 0.20879086041989975\n",
      "Objective value at epoch t=53 is 0.20875985902877942\n",
      "Objective value at epoch t=54 is 0.20878703456242279\n",
      "Objective value at epoch t=55 is 0.208764239376637\n",
      "Objective value at epoch t=56 is 0.20877884491518128\n",
      "Objective value at epoch t=57 is 0.208778284543667\n",
      "Objective value at epoch t=58 is 0.20880092626274452\n",
      "Objective value at epoch t=59 is 0.20878548477160666\n",
      "Objective value at epoch t=60 is 0.2087873540760601\n",
      "Objective value at epoch t=61 is 0.20878125309225476\n",
      "Objective value at epoch t=62 is 0.2087895356435485\n",
      "Objective value at epoch t=63 is 0.20880104584613754\n",
      "Objective value at epoch t=64 is 0.2088032218780094\n",
      "Objective value at epoch t=65 is 0.20879253024385705\n",
      "Objective value at epoch t=66 is 0.20879489099047002\n",
      "Objective value at epoch t=67 is 0.208790117008473\n",
      "Objective value at epoch t=68 is 0.2087942050421865\n",
      "Objective value at epoch t=69 is 0.20880099899799873\n",
      "Objective value at epoch t=70 is 0.20879347523425362\n",
      "Objective value at epoch t=71 is 0.20879997650400658\n",
      "Objective value at epoch t=72 is 0.20879752523390444\n",
      "Objective value at epoch t=73 is 0.20879887624075721\n",
      "Objective value at epoch t=74 is 0.20880184987457662\n",
      "Objective value at epoch t=75 is 0.2087988904072675\n",
      "Objective value at epoch t=76 is 0.2087997753802851\n",
      "Objective value at epoch t=77 is 0.20880150120812493\n",
      "Objective value at epoch t=78 is 0.2088015291121772\n",
      "Objective value at epoch t=79 is 0.20880032682349242\n",
      "Objective value at epoch t=80 is 0.2088029189671806\n",
      "Objective value at epoch t=81 is 0.208802498710902\n",
      "Objective value at epoch t=82 is 0.20880497799996084\n",
      "Objective value at epoch t=83 is 0.20880364948286675\n",
      "Objective value at epoch t=84 is 0.20880407972672846\n",
      "Objective value at epoch t=85 is 0.20880355479865118\n",
      "Objective value at epoch t=86 is 0.2088037319366663\n",
      "Objective value at epoch t=87 is 0.2088044803511018\n",
      "Objective value at epoch t=88 is 0.20880355010512752\n",
      "Objective value at epoch t=89 is 0.2088034224759634\n",
      "Objective value at epoch t=90 is 0.20880310811126218\n",
      "Objective value at epoch t=91 is 0.20880387096063724\n",
      "Objective value at epoch t=92 is 0.20880370145557278\n",
      "Objective value at epoch t=93 is 0.20880337597187584\n",
      "Objective value at epoch t=94 is 0.20880348982171346\n",
      "Objective value at epoch t=95 is 0.20880325908748149\n",
      "Objective value at epoch t=96 is 0.2088034622335337\n",
      "Objective value at epoch t=97 is 0.20880299005606415\n",
      "Objective value at epoch t=98 is 0.20880303857545549\n",
      "Objective value at epoch t=99 is 0.2088033973327108\n",
      "Objective value at epoch t=100 is 0.20880304406929548\n",
      "Objective value at epoch t=101 is 0.2088028611891775\n",
      "Objective value at epoch t=102 is 0.20880314016949167\n",
      "Objective value at epoch t=103 is 0.20880299583125503\n",
      "Objective value at epoch t=104 is 0.2088029164171247\n",
      "Objective value at epoch t=105 is 0.20880299649586076\n",
      "Objective value at epoch t=106 is 0.20880296327278033\n",
      "Objective value at epoch t=107 is 0.20880312726415162\n",
      "Objective value at epoch t=108 is 0.20880309617743134\n",
      "Objective value at epoch t=109 is 0.20880303270059383\n",
      "Objective value at epoch t=110 is 0.20880309883075124\n",
      "Objective value at epoch t=111 is 0.20880302085081864\n",
      "Objective value at epoch t=112 is 0.20880302184224686\n",
      "Objective value at epoch t=113 is 0.2088031041444506\n",
      "Objective value at epoch t=114 is 0.20880307742469173\n",
      "Objective value at epoch t=115 is 0.2088031565518582\n",
      "Objective value at epoch t=116 is 0.2088031548090528\n",
      "Objective value at epoch t=117 is 0.20880318212289545\n",
      "Objective value at epoch t=118 is 0.20880320253823295\n",
      "Objective value at epoch t=119 is 0.20880316687411307\n",
      "Objective value at epoch t=120 is 0.20880314978584713\n",
      "Objective value at epoch t=121 is 0.2088031466264699\n",
      "Objective value at epoch t=122 is 0.2088031533057909\n",
      "Objective value at epoch t=123 is 0.20880315015912124\n",
      "Objective value at epoch t=124 is 0.20880314990446883\n",
      "Objective value at epoch t=125 is 0.20880315454595477\n",
      "Objective value at epoch t=126 is 0.2088031400045992\n",
      "Objective value at epoch t=127 is 0.20880315197482358\n",
      "Objective value at epoch t=128 is 0.20880314905852912\n",
      "Objective value at epoch t=129 is 0.20880315068790373\n",
      "Objective value at epoch t=130 is 0.2088031506355178\n",
      "Objective value at epoch t=131 is 0.2088031494673522\n",
      "Objective value at epoch t=132 is 0.2088031404696813\n",
      "Objective value at epoch t=133 is 0.2088031395421743\n",
      "Objective value at epoch t=134 is 0.20880314584510531\n",
      "Objective value at epoch t=135 is 0.20880313801243391\n",
      "Objective value at epoch t=136 is 0.2088031377683949\n",
      "Objective value at epoch t=137 is 0.20880313592802435\n",
      "Objective value at epoch t=138 is 0.20880313762002634\n",
      "Objective value at epoch t=139 is 0.2088031385775353\n",
      "Objective value at epoch t=140 is 0.20880313878897322\n",
      "Objective value at epoch t=141 is 0.20880313740586584\n",
      "Objective value at epoch t=142 is 0.20880313594717356\n",
      "Objective value at epoch t=143 is 0.20880313487773297\n",
      "Objective value at epoch t=144 is 0.20880313597622996\n",
      "Objective value at epoch t=145 is 0.20880313723321514\n",
      "Objective value at epoch t=146 is 0.2088031356061404\n",
      "Objective value at epoch t=147 is 0.2088031343390941\n",
      "Objective value at epoch t=148 is 0.20880313635220626\n",
      "Objective value at epoch t=149 is 0.20880313537511602\n"
     ]
    }
   ],
   "source": [
    "# example\n",
    "d = x_train.shape[1]\n",
    "w = np.zeros(d)\n",
    "b = np.zeros(1)\n",
    "stepsize = 0.2\n",
    "w, b, objvals_mini_sgd = mini_batch_sgd(x_train, y_train, w, b, stepsize)"
   ]
  },
  {
   "cell_type": "markdown",
   "metadata": {
    "colab_type": "text",
    "id": "hJm0NM49U8gK"
   },
   "source": [
    "### Compare GD, SGD, and mini batch SGD\n",
    "\n",
    "Plot objective function values against epochs."
   ]
  },
  {
   "cell_type": "code",
   "execution_count": 54,
   "metadata": {
    "colab": {},
    "colab_type": "code",
    "id": "zrMngP3MU8gK"
   },
   "outputs": [
    {
     "ename": "AttributeError",
     "evalue": "'Line2D' object has no property 'LineWidth'",
     "output_type": "error",
     "traceback": [
      "\u001b[1;31m---------------------------------------------------------------------------\u001b[0m",
      "\u001b[1;31mAttributeError\u001b[0m                            Traceback (most recent call last)",
      "\u001b[1;32ma:\\School\\2022 Fall\\Data Science\\hw2\\HW2_logistic_regression.ipynb Cell 32\u001b[0m in \u001b[0;36m<cell line: 11>\u001b[1;34m()\u001b[0m\n\u001b[0;32m      <a href='vscode-notebook-cell:/a%3A/School/2022%20Fall/Data%20Science/hw2/HW2_logistic_regression.ipynb#X43sZmlsZQ%3D%3D?line=7'>8</a>\u001b[0m epochs_mini_sgd \u001b[39m=\u001b[39m \u001b[39mrange\u001b[39m(\u001b[39mlen\u001b[39m(objvals_mini_sgd))\n\u001b[0;32m     <a href='vscode-notebook-cell:/a%3A/School/2022%20Fall/Data%20Science/hw2/HW2_logistic_regression.ipynb#X43sZmlsZQ%3D%3D?line=9'>10</a>\u001b[0m \u001b[39m# line0, = plt.plot(epochs_gd, objvals_gd, '--b', LineWidth=2)\u001b[39;00m\n\u001b[1;32m---> <a href='vscode-notebook-cell:/a%3A/School/2022%20Fall/Data%20Science/hw2/HW2_logistic_regression.ipynb#X43sZmlsZQ%3D%3D?line=10'>11</a>\u001b[0m line1, \u001b[39m=\u001b[39m plt\u001b[39m.\u001b[39;49mplot(epochs_sgd, objvals_sgd, \u001b[39m'\u001b[39;49m\u001b[39m-r\u001b[39;49m\u001b[39m'\u001b[39;49m, LineWidth\u001b[39m=\u001b[39;49m\u001b[39m2\u001b[39;49m)\n\u001b[0;32m     <a href='vscode-notebook-cell:/a%3A/School/2022%20Fall/Data%20Science/hw2/HW2_logistic_regression.ipynb#X43sZmlsZQ%3D%3D?line=11'>12</a>\u001b[0m line2, \u001b[39m=\u001b[39m plt\u001b[39m.\u001b[39mplot(epochs_mini_sgd, objvals_mini_sgd, \u001b[39m'\u001b[39m\u001b[39m.-y\u001b[39m\u001b[39m'\u001b[39m, LineWidth\u001b[39m=\u001b[39m\u001b[39m2\u001b[39m)\n\u001b[0;32m     <a href='vscode-notebook-cell:/a%3A/School/2022%20Fall/Data%20Science/hw2/HW2_logistic_regression.ipynb#X43sZmlsZQ%3D%3D?line=12'>13</a>\u001b[0m plt\u001b[39m.\u001b[39mxlabel(\u001b[39m'\u001b[39m\u001b[39mEpochs\u001b[39m\u001b[39m'\u001b[39m, FontSize\u001b[39m=\u001b[39m\u001b[39m20\u001b[39m)\n",
      "File \u001b[1;32mc:\\Users\\lauto\\anaconda3\\lib\\site-packages\\matplotlib\\pyplot.py:2757\u001b[0m, in \u001b[0;36mplot\u001b[1;34m(scalex, scaley, data, *args, **kwargs)\u001b[0m\n\u001b[0;32m   2755\u001b[0m \u001b[39m@_copy_docstring_and_deprecators\u001b[39m(Axes\u001b[39m.\u001b[39mplot)\n\u001b[0;32m   2756\u001b[0m \u001b[39mdef\u001b[39;00m \u001b[39mplot\u001b[39m(\u001b[39m*\u001b[39margs, scalex\u001b[39m=\u001b[39m\u001b[39mTrue\u001b[39;00m, scaley\u001b[39m=\u001b[39m\u001b[39mTrue\u001b[39;00m, data\u001b[39m=\u001b[39m\u001b[39mNone\u001b[39;00m, \u001b[39m*\u001b[39m\u001b[39m*\u001b[39mkwargs):\n\u001b[1;32m-> 2757\u001b[0m     \u001b[39mreturn\u001b[39;00m gca()\u001b[39m.\u001b[39mplot(\n\u001b[0;32m   2758\u001b[0m         \u001b[39m*\u001b[39margs, scalex\u001b[39m=\u001b[39mscalex, scaley\u001b[39m=\u001b[39mscaley,\n\u001b[0;32m   2759\u001b[0m         \u001b[39m*\u001b[39m\u001b[39m*\u001b[39m({\u001b[39m\"\u001b[39m\u001b[39mdata\u001b[39m\u001b[39m\"\u001b[39m: data} \u001b[39mif\u001b[39;00m data \u001b[39mis\u001b[39;00m \u001b[39mnot\u001b[39;00m \u001b[39mNone\u001b[39;00m \u001b[39melse\u001b[39;00m {}), \u001b[39m*\u001b[39m\u001b[39m*\u001b[39mkwargs)\n",
      "File \u001b[1;32mc:\\Users\\lauto\\anaconda3\\lib\\site-packages\\matplotlib\\axes\\_axes.py:1632\u001b[0m, in \u001b[0;36mAxes.plot\u001b[1;34m(self, scalex, scaley, data, *args, **kwargs)\u001b[0m\n\u001b[0;32m   1390\u001b[0m \u001b[39m\"\"\"\u001b[39;00m\n\u001b[0;32m   1391\u001b[0m \u001b[39mPlot y versus x as lines and/or markers.\u001b[39;00m\n\u001b[0;32m   1392\u001b[0m \n\u001b[1;32m   (...)\u001b[0m\n\u001b[0;32m   1629\u001b[0m \u001b[39m(``'green'``) or hex strings (``'#008000'``).\u001b[39;00m\n\u001b[0;32m   1630\u001b[0m \u001b[39m\"\"\"\u001b[39;00m\n\u001b[0;32m   1631\u001b[0m kwargs \u001b[39m=\u001b[39m cbook\u001b[39m.\u001b[39mnormalize_kwargs(kwargs, mlines\u001b[39m.\u001b[39mLine2D)\n\u001b[1;32m-> 1632\u001b[0m lines \u001b[39m=\u001b[39m [\u001b[39m*\u001b[39m\u001b[39mself\u001b[39m\u001b[39m.\u001b[39m_get_lines(\u001b[39m*\u001b[39margs, data\u001b[39m=\u001b[39mdata, \u001b[39m*\u001b[39m\u001b[39m*\u001b[39mkwargs)]\n\u001b[0;32m   1633\u001b[0m \u001b[39mfor\u001b[39;00m line \u001b[39min\u001b[39;00m lines:\n\u001b[0;32m   1634\u001b[0m     \u001b[39mself\u001b[39m\u001b[39m.\u001b[39madd_line(line)\n",
      "File \u001b[1;32mc:\\Users\\lauto\\anaconda3\\lib\\site-packages\\matplotlib\\axes\\_base.py:312\u001b[0m, in \u001b[0;36m_process_plot_var_args.__call__\u001b[1;34m(self, data, *args, **kwargs)\u001b[0m\n\u001b[0;32m    310\u001b[0m     this \u001b[39m+\u001b[39m\u001b[39m=\u001b[39m args[\u001b[39m0\u001b[39m],\n\u001b[0;32m    311\u001b[0m     args \u001b[39m=\u001b[39m args[\u001b[39m1\u001b[39m:]\n\u001b[1;32m--> 312\u001b[0m \u001b[39myield from\u001b[39;00m \u001b[39mself\u001b[39;49m\u001b[39m.\u001b[39;49m_plot_args(this, kwargs)\n",
      "File \u001b[1;32mc:\\Users\\lauto\\anaconda3\\lib\\site-packages\\matplotlib\\axes\\_base.py:538\u001b[0m, in \u001b[0;36m_process_plot_var_args._plot_args\u001b[1;34m(self, tup, kwargs, return_kwargs)\u001b[0m\n\u001b[0;32m    536\u001b[0m     \u001b[39mreturn\u001b[39;00m \u001b[39mlist\u001b[39m(result)\n\u001b[0;32m    537\u001b[0m \u001b[39melse\u001b[39;00m:\n\u001b[1;32m--> 538\u001b[0m     \u001b[39mreturn\u001b[39;00m [l[\u001b[39m0\u001b[39m] \u001b[39mfor\u001b[39;00m l \u001b[39min\u001b[39;00m result]\n",
      "File \u001b[1;32mc:\\Users\\lauto\\anaconda3\\lib\\site-packages\\matplotlib\\axes\\_base.py:538\u001b[0m, in \u001b[0;36m<listcomp>\u001b[1;34m(.0)\u001b[0m\n\u001b[0;32m    536\u001b[0m     \u001b[39mreturn\u001b[39;00m \u001b[39mlist\u001b[39m(result)\n\u001b[0;32m    537\u001b[0m \u001b[39melse\u001b[39;00m:\n\u001b[1;32m--> 538\u001b[0m     \u001b[39mreturn\u001b[39;00m [l[\u001b[39m0\u001b[39m] \u001b[39mfor\u001b[39;00m l \u001b[39min\u001b[39;00m result]\n",
      "File \u001b[1;32mc:\\Users\\lauto\\anaconda3\\lib\\site-packages\\matplotlib\\axes\\_base.py:531\u001b[0m, in \u001b[0;36m<genexpr>\u001b[1;34m(.0)\u001b[0m\n\u001b[0;32m    528\u001b[0m \u001b[39melse\u001b[39;00m:\n\u001b[0;32m    529\u001b[0m     labels \u001b[39m=\u001b[39m [label] \u001b[39m*\u001b[39m n_datasets\n\u001b[1;32m--> 531\u001b[0m result \u001b[39m=\u001b[39m (make_artist(x[:, j \u001b[39m%\u001b[39;49m ncx], y[:, j \u001b[39m%\u001b[39;49m ncy], kw,\n\u001b[0;32m    532\u001b[0m                       {\u001b[39m*\u001b[39;49m\u001b[39m*\u001b[39;49mkwargs, \u001b[39m'\u001b[39;49m\u001b[39mlabel\u001b[39;49m\u001b[39m'\u001b[39;49m: label})\n\u001b[0;32m    533\u001b[0m           \u001b[39mfor\u001b[39;00m j, label \u001b[39min\u001b[39;00m \u001b[39menumerate\u001b[39m(labels))\n\u001b[0;32m    535\u001b[0m \u001b[39mif\u001b[39;00m return_kwargs:\n\u001b[0;32m    536\u001b[0m     \u001b[39mreturn\u001b[39;00m \u001b[39mlist\u001b[39m(result)\n",
      "File \u001b[1;32mc:\\Users\\lauto\\anaconda3\\lib\\site-packages\\matplotlib\\axes\\_base.py:351\u001b[0m, in \u001b[0;36m_process_plot_var_args._makeline\u001b[1;34m(self, x, y, kw, kwargs)\u001b[0m\n\u001b[0;32m    349\u001b[0m default_dict \u001b[39m=\u001b[39m \u001b[39mself\u001b[39m\u001b[39m.\u001b[39m_getdefaults(\u001b[39mset\u001b[39m(), kw)\n\u001b[0;32m    350\u001b[0m \u001b[39mself\u001b[39m\u001b[39m.\u001b[39m_setdefaults(default_dict, kw)\n\u001b[1;32m--> 351\u001b[0m seg \u001b[39m=\u001b[39m mlines\u001b[39m.\u001b[39mLine2D(x, y, \u001b[39m*\u001b[39m\u001b[39m*\u001b[39mkw)\n\u001b[0;32m    352\u001b[0m \u001b[39mreturn\u001b[39;00m seg, kw\n",
      "File \u001b[1;32mc:\\Users\\lauto\\anaconda3\\lib\\site-packages\\matplotlib\\lines.py:393\u001b[0m, in \u001b[0;36mLine2D.__init__\u001b[1;34m(self, xdata, ydata, linewidth, linestyle, color, marker, markersize, markeredgewidth, markeredgecolor, markerfacecolor, markerfacecoloralt, fillstyle, antialiased, dash_capstyle, solid_capstyle, dash_joinstyle, solid_joinstyle, pickradius, drawstyle, markevery, **kwargs)\u001b[0m\n\u001b[0;32m    389\u001b[0m \u001b[39mself\u001b[39m\u001b[39m.\u001b[39mset_markeredgewidth(markeredgewidth)\n\u001b[0;32m    391\u001b[0m \u001b[39m# update kwargs before updating data to give the caller a\u001b[39;00m\n\u001b[0;32m    392\u001b[0m \u001b[39m# chance to init axes (and hence unit support)\u001b[39;00m\n\u001b[1;32m--> 393\u001b[0m \u001b[39mself\u001b[39;49m\u001b[39m.\u001b[39;49mupdate(kwargs)\n\u001b[0;32m    394\u001b[0m \u001b[39mself\u001b[39m\u001b[39m.\u001b[39mpickradius \u001b[39m=\u001b[39m pickradius\n\u001b[0;32m    395\u001b[0m \u001b[39mself\u001b[39m\u001b[39m.\u001b[39mind_offset \u001b[39m=\u001b[39m \u001b[39m0\u001b[39m\n",
      "File \u001b[1;32mc:\\Users\\lauto\\anaconda3\\lib\\site-packages\\matplotlib\\artist.py:1064\u001b[0m, in \u001b[0;36mArtist.update\u001b[1;34m(self, props)\u001b[0m\n\u001b[0;32m   1062\u001b[0m             func \u001b[39m=\u001b[39m \u001b[39mgetattr\u001b[39m(\u001b[39mself\u001b[39m, \u001b[39mf\u001b[39m\u001b[39m\"\u001b[39m\u001b[39mset_\u001b[39m\u001b[39m{\u001b[39;00mk\u001b[39m}\u001b[39;00m\u001b[39m\"\u001b[39m, \u001b[39mNone\u001b[39;00m)\n\u001b[0;32m   1063\u001b[0m             \u001b[39mif\u001b[39;00m \u001b[39mnot\u001b[39;00m callable(func):\n\u001b[1;32m-> 1064\u001b[0m                 \u001b[39mraise\u001b[39;00m \u001b[39mAttributeError\u001b[39;00m(\u001b[39mf\u001b[39m\u001b[39m\"\u001b[39m\u001b[39m{\u001b[39;00m\u001b[39mtype\u001b[39m(\u001b[39mself\u001b[39m)\u001b[39m.\u001b[39m\u001b[39m__name__\u001b[39m\u001b[39m!r}\u001b[39;00m\u001b[39m object \u001b[39m\u001b[39m\"\u001b[39m\n\u001b[0;32m   1065\u001b[0m                                      \u001b[39mf\u001b[39m\u001b[39m\"\u001b[39m\u001b[39mhas no property \u001b[39m\u001b[39m{\u001b[39;00mk\u001b[39m!r}\u001b[39;00m\u001b[39m\"\u001b[39m)\n\u001b[0;32m   1066\u001b[0m             ret\u001b[39m.\u001b[39mappend(func(v))\n\u001b[0;32m   1067\u001b[0m \u001b[39mif\u001b[39;00m ret:\n",
      "\u001b[1;31mAttributeError\u001b[0m: 'Line2D' object has no property 'LineWidth'"
     ]
    },
    {
     "data": {
      "image/png": "[encoded data removed]",
      "text/plain": [
       "<Figure size 432x288 with 1 Axes>"
      ]
     },
     "metadata": {
      "needs_background": "light"
     },
     "output_type": "display_data"
    }
   ],
   "source": [
    "import matplotlib.pyplot as plt\n",
    "%matplotlib inline\n",
    "\n",
    "fig = plt.figure(figsize=(6, 4))\n",
    "\n",
    "epochs_gd = range(len(objvals_gd))\n",
    "epochs_sgd = range(len(objvals_sgd))\n",
    "epochs_mini_sgd = range(len(objvals_mini_sgd))\n",
    "\n",
    "line0, = plt.plot(epochs_gd, objvals_gd, '--b', LineWidth=2)\n",
    "line1, = plt.plot(epochs_sgd, objvals_sgd, '-r', LineWidth=2)\n",
    "line2, = plt.plot(epochs_mini_sgd, objvals_mini_sgd, '.-y', LineWidth=2)\n",
    "plt.xlabel('Epochs', FontSize=20)\n",
    "plt.ylabel('Objective Value', FontSize=20)\n",
    "plt.xticks(FontSize=16)\n",
    "plt.yticks(FontSize=16)\n",
    "plt.legend([line0, line1, line2], ['GD', 'SGD', 'batch SGD'], fontsize=20)\n",
    "plt.tight_layout()\n",
    "plt.show()\n",
    "fig.savefig('compare_gd_sgd.pdf', format='pdf', dpi=1200)"
   ]
  },
  {
   "cell_type": "markdown",
   "metadata": {
    "colab_type": "text",
    "id": "wzoBjLRuU8gN"
   },
   "source": [
    "# 4. Prediction"
   ]
  },
  {
   "cell_type": "code",
   "execution_count": null,
   "metadata": {
    "colab": {},
    "colab_type": "code",
    "id": "RxBpOpWtU8gO"
   },
   "outputs": [],
   "source": [
    "# Predict class label\n",
    "# Inputs:\n",
    "#     w: d-by-1 matrix\n",
    "#     X: m-by-d matrix\n",
    "# Return:\n",
    "#     f: m-by-1 matrix, the predictions\n",
    "def predict(w, X):\n",
    "    xw = np.dot(X, w)\n",
    "    f = np.sign(xw)\n",
    "    return f"
   ]
  },
  {
   "cell_type": "code",
   "execution_count": null,
   "metadata": {
    "colab": {},
    "colab_type": "code",
    "id": "g-RJK4pnU8gQ"
   },
   "outputs": [],
   "source": [
    "# evaluate training error\n",
    "f_train = predict(w, x_train)\n",
    "diff = np.abs(f_train - y_train) / 2\n",
    "error_train = np.mean(diff)\n",
    "print('Training classification error is ' + str(error_train))"
   ]
  },
  {
   "cell_type": "code",
   "execution_count": null,
   "metadata": {
    "colab": {},
    "colab_type": "code",
    "id": "paDufW79U8gS"
   },
   "outputs": [],
   "source": [
    "# evaluate test error\n",
    "f_test = predict(w, x_test)\n",
    "diff = np.abs(f_test - y_test) / 2\n",
    "error_test = np.mean(diff)\n",
    "print('Test classification error is ' + str(error_test))"
   ]
  },
  {
   "cell_type": "code",
   "execution_count": null,
   "metadata": {
    "colab": {},
    "colab_type": "code",
    "id": "ehlvdNIpU8gV"
   },
   "outputs": [],
   "source": []
  },
  {
   "cell_type": "markdown",
   "metadata": {},
   "source": [
    "## Submission instructions \n",
    "\n",
    "**PLEASE READ:** When you are ready to submit your assignment do the following:\n",
    "\n",
    "1. Run all cells in your notebook to make sure there are no errors by doing `Kernel -> Restart Kernel and Clear All Outputs` and then `Run -> Run All Cells`.\n",
    "2. Notebooks with cell execution numbers out of order will have marks deducted. Notebooks without the output displayed may not be graded at all (because we need to see the output in order to grade your work).\n",
    "3. Please keep your notebook clean and remove any throwaway code."
   ]
  }
 ],
 "metadata": {
  "colab": {
   "collapsed_sections": [],
   "name": "New_HW2_logistic_regression_sol.ipynb",
   "provenance": [],
   "toc_visible": true
  },
  "kernelspec": {
   "display_name": "Python 3.9.12 ('base')",
   "language": "python",
   "name": "python3"
  },
  "language_info": {
   "codemirror_mode": {
    "name": "ipython",
    "version": 3
   },
   "file_extension": ".py",
   "mimetype": "text/x-python",
   "name": "python",
   "nbconvert_exporter": "python",
   "pygments_lexer": "ipython3",
   "version": "3.9.12"
  },
  "vscode": {
   "interpreter": {
    "hash": "4f53694c8df255f771a9e45704e9f28af70cf8ad486233b910eba87e29b5ab30"
   }
  }
 },
 "nbformat": 4,
 "nbformat_minor": 2
}
