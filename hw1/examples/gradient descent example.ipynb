{
 "cells": [
  {
   "cell_type": "markdown",
   "metadata": {},
   "source": [
    "# Worked-out example for gradient descent"
   ]
  },
  {
   "cell_type": "markdown",
   "metadata": {},
   "source": [
    "Computing regression parameters (gradient descent example)\n"
   ]
  },
  {
   "cell_type": "markdown",
   "metadata": {},
   "source": [
    "## The data"
   ]
  },
  {
   "cell_type": "markdown",
   "metadata": {},
   "source": [
    "Consider the following 5 point synthetic data set:\n",
    "\n"
   ]
  },
  {
   "cell_type": "code",
   "execution_count": 1,
   "metadata": {},
   "outputs": [],
   "source": [
    "import numpy as np"
   ]
  },
  {
   "cell_type": "code",
   "execution_count": 2,
   "metadata": {},
   "outputs": [],
   "source": [
    "X = np.array([0, 1, 2, 3, 4])\n",
    "Y =  np.array([1, 3, 7, 13, 21])"
   ]
  },
  {
   "cell_type": "markdown",
   "metadata": {},
   "source": [
    "Which is plotted below:\n",
    "\n"
   ]
  },
  {
   "cell_type": "code",
   "execution_count": 3,
   "metadata": {},
   "outputs": [],
   "source": [
    "import imp\n",
    "import matplotlib.pyplot as plt\n",
    "from matplotlib.pyplot import MultipleLocator"
   ]
  },
  {
   "cell_type": "code",
   "execution_count": 4,
   "metadata": {},
   "outputs": [
    {
     "data": {
      "image/png": "[encoded data removed]",
      "text/plain": [
       "<Figure size 432x288 with 1 Axes>"
      ]
     },
     "metadata": {
      "needs_background": "light"
     },
     "output_type": "display_data"
    }
   ],
   "source": [
    "plt.plot(X, Y, 'go')\n",
    "\n",
    "plt.xlabel('X')\n",
    "plt.ylabel('Y')\n",
    "\n",
    "ax=plt.gca()\n",
    "ax.xaxis.set_major_locator(MultipleLocator(1))\n",
    "ax.yaxis.set_major_locator(MultipleLocator(5))\n",
    "\n",
    "plt.show()"
   ]
  },
  {
   "cell_type": "markdown",
   "metadata": {},
   "source": [
    "## What we need\n"
   ]
  },
  {
   "cell_type": "markdown",
   "metadata": {},
   "source": [
    "Now that we’ve computed the regression line using a closed form solution let’s do it again but with gradient descent. \n",
    "\n",
    "Recall that:\n",
    "\n",
    "The derivative of the cost for the intercept is the sum of the errors\n",
    "\n",
    "The derivative of the cost for the slope is the sum of the product of the errors and the input\n",
    "\n",
    "We will need a starting value for the slope and intercept, a step_size and a tolerance\n",
    "\n",
    "* initial_intercept = 0\n",
    "\n",
    "* initial_slope = 0\n",
    "\n",
    "* step_size = 0.05\n",
    "\n",
    "* tolerance = 0.01"
   ]
  },
  {
   "cell_type": "markdown",
   "metadata": {},
   "source": [
    "## The algorithm\n"
   ]
  },
  {
   "cell_type": "markdown",
   "metadata": {},
   "source": [
    "In each step of the gradient descent we will do the following:\n",
    "\n",
    "1. Compute the predicted values given the current slope and intercept\n",
    "\n",
    "2. Compute the prediction errors (prediction - Y)\n",
    "\n",
    "3. Update the intercept:\n",
    "\n",
    "    * compute the derivative: sum(errors)\n",
    "\n",
    "    * compute the adjustment as step_size times the derivative\n",
    "\n",
    "    * decrease the intercept by the adjustment\n",
    "\n",
    "4. Update the slope:\n",
    "\n",
    "    * compute the derivative: sum(errors*input)\n",
    "\n",
    "    * compute the adjustment as step_size times the derivative\n",
    "\n",
    "    * decrease the slope by the adjustment\n",
    "\n",
    "5. Compute the magnitude of the gradient\n",
    "\n",
    "6. Check for convergence"
   ]
  },
  {
   "cell_type": "markdown",
   "metadata": {},
   "source": [
    "## The algorithm in action \n"
   ]
  },
  {
   "cell_type": "markdown",
   "metadata": {},
   "source": [
    "**First step:**\n",
    "\n",
    "Intercept = 0 \n",
    "\n",
    "Slope = 0\n",
    "\n",
    "1. predictions = [0, 0, 0, 0, 0] \n",
    "\n",
    "2. errors = [-1, -3, -7, -13, -21]\n",
    "\n",
    "3. update Intercept\n",
    "\n",
    "    sum([-1, -3, -7, -13, -21])  = -45\n",
    "\n",
    "    adjustment = 0.05 * -45 = -2.25\n",
    "\n",
    "    new_intercept = 0 - -2.25 = 2.25\n",
    "\n",
    "4. update Slope\n",
    "\n",
    "    sum([0, 1, 2, 3, 4] * [-1, -3, -7, -13, -21])  = -140\n",
    "\n",
    "    adjustment = 0.05 * -140 = -7\n",
    "\n",
    "    new_slope = 0 - -7 = 7\n",
    "\n",
    "5. magnitude = sqrt(( -45)^2 + (-140)^2) = 147.05\n",
    "\n",
    "6. magnitude > tolerance: not converged"
   ]
  },
  {
   "cell_type": "markdown",
   "metadata": {},
   "source": [
    "**Second step:**\n",
    "\n",
    "Intercept = 2.25\n",
    "\n",
    "Slope = 7\n",
    "\n",
    "1. predictions = [2.25, 9.25, 16.25, 23.25, 30.25] \n",
    "\n",
    "2. errors = [1.25, 6.35, 9.25, 10.25, 9.25]\n",
    "\n",
    "3. update Intercept\n",
    "\n",
    "    sum([1.25, 6.35, 9.25, 10.25, 9.25])  = 36.25\n",
    "\n",
    "    adjustment = 0.05 * 36.25 = 1.8125\n",
    "\n",
    "    new_intercept = 2.25-1.8125 = 0.4375\n",
    "\n",
    "4. update Slope\n",
    "\n",
    "    sum([0, 1, 2, 3, 4] * [1.25, 6.35, 9.25, 10.25, 9.25])  = 92.5\n",
    "\n",
    "    adjustment = 0.05 * 92.5 = 4.625\n",
    "\n",
    "    new_slope =  7 - 4.625 = 2.375\n",
    "\n",
    "5. magnitude = sqrt((36.25)^2 + (92.5)^2) = 99.35\n",
    "\n",
    "6. magnitude > tolerance: not converged"
   ]
  },
  {
   "cell_type": "markdown",
   "metadata": {},
   "source": [
    "**Third step:**\n",
    "\n",
    "Intercept =  0.4375\n",
    "\n",
    "Slope = 2.375\n",
    "\n",
    "1. predictions = [0.4375, 2.8125, 5.1875, 7.5625, 9.9375]\n",
    "\n",
    "2. errors = [-0.5625,  -0.1875,  -1.8125,  -5.4375, -11.0625]\n",
    "\n",
    "3. update Intercept\n",
    "\n",
    "    sum([-0.5625,  -0.1875,  -1.8125,  -5.4375, -11.0625])  = -19.0625\n",
    "\n",
    "    adjustment = 0.05 * -19.0625 = -0.953125\n",
    "\n",
    "    new_intercept = 0.4375 - -0.953125 = 1.390625\n",
    "\n",
    "4. update Slope\n",
    "\n",
    "    sum( [0, 1, 2, 3, 4] * [-0.5625,  -0.1875,  -1.8125,  -5.4375, -11.0625])  = -64.375\n",
    "\n",
    "    adjustment = 0.05 * -64.375= -3.21875\n",
    "\n",
    "    new_slope = 2.375 --3.21875 = 5.59375\n",
    "\n",
    "5. magnitude = sqrt(( -19.0625)^2 + (-64.375)^2) = 67.13806\n",
    "\n",
    "6. magnitude > tolerance: not converged\n",
    "\n",
    "Let’s skip forward a few steps… after the 77th step we have gradient magnitude 0.0107."
   ]
  },
  {
   "cell_type": "markdown",
   "metadata": {},
   "source": [
    "**78th Step:**\n",
    "\n",
    "Intercept = -0.9937\n",
    "\n",
    "Slope =  4.9978\n",
    "\n",
    "1. predictions = [-0.99374,  4.00406,  9.00187, 13.99967, 18.99748]\n",
    "\n",
    "2. errors = [-1.99374,  1.00406,  2.00187,  0.99967, -2.00252]\n",
    "\n",
    "3. update Intercept\n",
    "\n",
    "    sum([-1.99374,  1.00406,  2.00187,  0.99967, -2.00252])  = 0.009341224\n",
    "\n",
    "    adjustment = 0.05 * 0.009341224 = 0.0004670612\n",
    "\n",
    "    new_intercept = -0.9937 - 0.0004670612 = -0.994207\n",
    "\n",
    "4. update Slope\n",
    "\n",
    "    sum([0, 1, 2, 3, 4] * [-1.99374,  1.00406,  2.00187,  0.99967, -2.00252])  = -0.0032767\n",
    "\n",
    "    adjustment = 0.05 *-0.0032767 = -0.00016383\n",
    "\n",
    "    new_slope = 4.9978 --0.00016383 = 4.9979\n",
    "\n",
    "5. magnitude = sqrt[()^2 + ()^2] = 0.0098992\n",
    "\n",
    "6. magnitude < tolerance: converged!"
   ]
  },
  {
   "cell_type": "markdown",
   "metadata": {},
   "source": [
    "**Final slope: 4.998**\n",
    "\n",
    "**Final Intercept: -0.994**"
   ]
  },
  {
   "cell_type": "markdown",
   "metadata": {},
   "source": [
    "If you continue you will get to (-1, 5) but at this point the change in RSS (our cost) is negligible. \n",
    "\n"
   ]
  },
  {
   "cell_type": "markdown",
   "metadata": {},
   "source": [
    "## Visualizing the steps:\n"
   ]
  },
  {
   "cell_type": "markdown",
   "metadata": {},
   "source": [
    "After the first step we have this line:\n",
    "\n"
   ]
  },
  {
   "cell_type": "code",
   "execution_count": 5,
   "metadata": {},
   "outputs": [
    {
     "data": {
      "image/png": "[encoded data removed]",
      "text/plain": [
       "<Figure size 432x288 with 1 Axes>"
      ]
     },
     "metadata": {
      "needs_background": "light"
     },
     "output_type": "display_data"
    }
   ],
   "source": [
    "# X = np.array([0, 1, 2, 3, 4])\n",
    "# Y =  np.array([1, 3, 7, 13, 21])\n",
    "\n",
    "Y2 = 7 * X + 2.25\n",
    "\n",
    "plt.plot(X, Y, 'go')\n",
    "plt.plot(X, Y2)\n",
    "\n",
    "plt.xlabel('X')\n",
    "plt.ylabel('Y')\n",
    "\n",
    "ax=plt.gca()\n",
    "ax.xaxis.set_major_locator(MultipleLocator(1))\n",
    "ax.yaxis.set_major_locator(MultipleLocator(5))\n",
    "\n",
    "plt.show()"
   ]
  },
  {
   "cell_type": "markdown",
   "metadata": {},
   "source": [
    "After the second step we have this line:\n",
    "\n"
   ]
  },
  {
   "cell_type": "code",
   "execution_count": 6,
   "metadata": {},
   "outputs": [
    {
     "data": {
      "image/png": "[encoded data removed]",
      "text/plain": [
       "<Figure size 432x288 with 1 Axes>"
      ]
     },
     "metadata": {
      "needs_background": "light"
     },
     "output_type": "display_data"
    }
   ],
   "source": [
    "# X = np.array([0, 1, 2, 3, 4])\n",
    "# Y =  np.array([1, 3, 7, 13, 21])\n",
    "\n",
    "Y3 = 2.375 * X + 0.4375\n",
    "\n",
    "plt.plot(X, Y, 'go')\n",
    "plt.plot(X, Y3)\n",
    "\n",
    "plt.xlabel('X')\n",
    "plt.ylabel('Y')\n",
    "\n",
    "ax=plt.gca()\n",
    "ax.xaxis.set_major_locator(MultipleLocator(1))\n",
    "ax.yaxis.set_major_locator(MultipleLocator(5))\n",
    "\n",
    "plt.show()"
   ]
  },
  {
   "cell_type": "markdown",
   "metadata": {},
   "source": [
    "After the third step we have this line:\n",
    "\n"
   ]
  },
  {
   "cell_type": "code",
   "execution_count": 7,
   "metadata": {},
   "outputs": [
    {
     "data": {
      "image/png": "[encoded data removed]",
      "text/plain": [
       "<Figure size 432x288 with 1 Axes>"
      ]
     },
     "metadata": {
      "needs_background": "light"
     },
     "output_type": "display_data"
    }
   ],
   "source": [
    "# X = np.array([0, 1, 2, 3, 4])\n",
    "# Y =  np.array([1, 3, 7, 13, 21])\n",
    "\n",
    "Y4 = 5.59375 * X + 1.390625\n",
    "\n",
    "plt.plot(X, Y, 'go')\n",
    "plt.plot(X, Y4)\n",
    "\n",
    "plt.xlabel('X')\n",
    "plt.ylabel('Y')\n",
    "\n",
    "ax=plt.gca()\n",
    "ax.xaxis.set_major_locator(MultipleLocator(1))\n",
    "ax.yaxis.set_major_locator(MultipleLocator(5))\n",
    "\n",
    "plt.show()"
   ]
  },
  {
   "cell_type": "markdown",
   "metadata": {},
   "source": [
    "And after the final step we have this line:\n",
    "\n"
   ]
  },
  {
   "cell_type": "code",
   "execution_count": 8,
   "metadata": {},
   "outputs": [
    {
     "data": {
      "image/png": "[encoded data removed]",
      "text/plain": [
       "<Figure size 432x288 with 1 Axes>"
      ]
     },
     "metadata": {
      "needs_background": "light"
     },
     "output_type": "display_data"
    }
   ],
   "source": [
    "# X = np.array([0, 1, 2, 3, 4])\n",
    "# Y =  np.array([1, 3, 7, 13, 21])\n",
    "\n",
    "Y79 = 4.998 * X + (-0.994)\n",
    "\n",
    "plt.plot(X, Y, 'go')\n",
    "plt.plot(X, Y79)\n",
    "\n",
    "plt.xlabel('X')\n",
    "plt.ylabel('Y')\n",
    "\n",
    "ax=plt.gca()\n",
    "ax.xaxis.set_major_locator(MultipleLocator(1))\n",
    "ax.yaxis.set_major_locator(MultipleLocator(5))\n",
    "\n",
    "plt.show()"
   ]
  }
 ],
 "metadata": {
  "kernelspec": {
   "display_name": "Python 3.9.5 64-bit",
   "language": "python",
   "name": "python3"
  },
  "language_info": {
   "codemirror_mode": {
    "name": "ipython",
    "version": 3
   },
   "file_extension": ".py",
   "mimetype": "text/x-python",
   "name": "python",
   "nbconvert_exporter": "python",
   "pygments_lexer": "ipython3",
   "version": "3.9.5"
  },
  "orig_nbformat": 4,
  "vscode": {
   "interpreter": {
    "hash": "25751e66e043df2b62dfc31b84f362b7b078bf80df219ee24f0914e16d057244"
   }
  }
 },
 "nbformat": 4,
 "nbformat_minor": 2
}
