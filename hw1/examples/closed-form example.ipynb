{
 "cells": [
  {
   "cell_type": "markdown",
   "metadata": {},
   "source": [
    "# Worked-out example for closed-form solution\n"
   ]
  },
  {
   "cell_type": "markdown",
   "metadata": {},
   "source": [
    "Computing regression parameters (gradient descent example)"
   ]
  },
  {
   "cell_type": "markdown",
   "metadata": {},
   "source": [
    "## The data\n"
   ]
  },
  {
   "cell_type": "markdown",
   "metadata": {},
   "source": [
    "Consider the following 5 point synthetic data set:\n",
    "\n"
   ]
  },
  {
   "cell_type": "code",
   "execution_count": 2,
   "metadata": {},
   "outputs": [],
   "source": [
    "import numpy as np"
   ]
  },
  {
   "cell_type": "code",
   "execution_count": 3,
   "metadata": {},
   "outputs": [],
   "source": [
    "X = np.array([0, 1, 2, 3, 4])\n",
    "Y =  np.array([1, 3, 7, 13, 21])"
   ]
  },
  {
   "cell_type": "markdown",
   "metadata": {},
   "source": [
    "Which is plotted below:\n",
    "\n"
   ]
  },
  {
   "cell_type": "code",
   "execution_count": 4,
   "metadata": {},
   "outputs": [],
   "source": [
    "import imp\n",
    "import matplotlib.pyplot as plt\n",
    "from matplotlib.pyplot import MultipleLocator"
   ]
  },
  {
   "cell_type": "code",
   "execution_count": 5,
   "metadata": {},
   "outputs": [
    {
     "data": {
      "image/png": "[encoded data removed]",
      "text/plain": [
       "<Figure size 432x288 with 1 Axes>"
      ]
     },
     "metadata": {
      "needs_background": "light"
     },
     "output_type": "display_data"
    }
   ],
   "source": [
    "plt.plot(X, Y, 'go')\n",
    "\n",
    "plt.xlabel('X')\n",
    "plt.ylabel('Y')\n",
    "\n",
    "ax=plt.gca()\n",
    "ax.xaxis.set_major_locator(MultipleLocator(1))\n",
    "ax.yaxis.set_major_locator(MultipleLocator(5))\n",
    "\n",
    "plt.show()"
   ]
  },
  {
   "cell_type": "markdown",
   "metadata": {},
   "source": [
    "## What we need\n"
   ]
  },
  {
   "cell_type": "markdown",
   "metadata": {},
   "source": [
    "We want the line that “best fits” this data set as measured by residual sum of squares -- the simple linear regression cost. We have a closed form solution that involves the following terms:"
   ]
  },
  {
   "cell_type": "markdown",
   "metadata": {},
   "source": [
    "* The number of data points (N)\n",
    "\n",
    "* The sum (or mean) of the Ys\n",
    "\n",
    "* The sum (or mean) of the Xs\n",
    "\n",
    "* The sum (or mean) of the product of the Xs and the Ys\n",
    "\n",
    "* The sum (or mean) of the Xs squared\n",
    "\n",
    "\n",
    "\n",
    "\n"
   ]
  },
  {
   "cell_type": "markdown",
   "metadata": {},
   "source": [
    "Then once we have calculated all of these terms, we can use the formulas to compute the slope and intercept. Recall that we first solve for the slope and then we use the value of the slope to solve for the intercept.  The formula for the slope is a fraction with:"
   ]
  },
  {
   "cell_type": "markdown",
   "metadata": {},
   "source": [
    "numerator = (sum of X \\* Y) - (1/N) * ((sum of X) * (sum of Y))\n",
    "\n",
    "denominator = (sum of X^2) - (1/N) * ((sum of X) * (sum of X))"
   ]
  },
  {
   "cell_type": "code",
   "execution_count": 6,
   "metadata": {},
   "outputs": [],
   "source": [
    "numerator = np.sum(X * Y) - (1/5)*(np.sum(X) * np.sum(Y))\n",
    "denominator = np.sum(X * X) - (1/5)*(np.sum(X) * np.sum(X))"
   ]
  },
  {
   "cell_type": "markdown",
   "metadata": {},
   "source": [
    "Note that you can divide both the numerator and denominator by N (which doesn’t change the answer!) to get:\n",
    "\n"
   ]
  },
  {
   "cell_type": "markdown",
   "metadata": {},
   "source": [
    "numerator = (mean of X * Y) - (mean of X) * (mean of Y)\n",
    "\n",
    "denominator = (mean of X^2) - (mean of X) * (mean of X)"
   ]
  },
  {
   "cell_type": "code",
   "execution_count": 7,
   "metadata": {},
   "outputs": [],
   "source": [
    "numerator = np.mean(X*Y) - np.mean(X)*np.mean(Y)\n",
    "denominator = np.mean(X*X) - np.mean(X)*np.mean(X)"
   ]
  },
  {
   "cell_type": "markdown",
   "metadata": {},
   "source": [
    "Hence, we can use either the sum or the means."
   ]
  },
  {
   "cell_type": "markdown",
   "metadata": {},
   "source": [
    "## The formula in action"
   ]
  },
  {
   "cell_type": "markdown",
   "metadata": {},
   "source": [
    "Method 1: (using sums)\n",
    "\n",
    "* N =  5\n",
    "\n",
    "* The sum of the Ys = 45\n",
    "\n",
    "* The sum of the Xs = 10\n",
    "\n",
    "* The sum of the product of the Xs and the Ys = 140\n",
    "\n",
    "* The sum of the Xs squared = 30\n",
    "\n",
    "So that:"
   ]
  },
  {
   "cell_type": "code",
   "execution_count": 8,
   "metadata": {},
   "outputs": [
    {
     "name": "stdout",
     "output_type": "stream",
     "text": [
      "numerator =  50.0\n",
      "denominator =  10.0\n"
     ]
    }
   ],
   "source": [
    "print('numerator = ', ((140) - (1/5) * (45*10))) \n",
    "print('denominator = ',  ((30) - (1/5) * (10*10)))"
   ]
  },
  {
   "cell_type": "markdown",
   "metadata": {},
   "source": [
    "hence:"
   ]
  },
  {
   "cell_type": "code",
   "execution_count": 9,
   "metadata": {},
   "outputs": [
    {
     "name": "stdout",
     "output_type": "stream",
     "text": [
      "slope =  5.0\n"
     ]
    }
   ],
   "source": [
    "print('slope = ',  numerator/denominator )"
   ]
  },
  {
   "cell_type": "markdown",
   "metadata": {},
   "source": [
    "Method 2: (using means)\n",
    "\n",
    "* The mean of the Ys = 9\n",
    "\n",
    "* The mean of the Xs = 2\n",
    "\n",
    "* The mean of the product of the Xs and the Ys = 28\n",
    "\n",
    "* The mean of the Xs squared = 6\n",
    "\n",
    "So that"
   ]
  },
  {
   "cell_type": "code",
   "execution_count": 10,
   "metadata": {},
   "outputs": [
    {
     "name": "stdout",
     "output_type": "stream",
     "text": [
      "numerator =  10\n",
      "denominator =  2\n"
     ]
    }
   ],
   "source": [
    "print('numerator = ', 28 - 9*2)\n",
    "print('denominator = ', 6 - 2*2)"
   ]
  },
  {
   "cell_type": "markdown",
   "metadata": {},
   "source": [
    "hence:\n",
    "\n"
   ]
  },
  {
   "cell_type": "code",
   "execution_count": 11,
   "metadata": {},
   "outputs": [
    {
     "name": "stdout",
     "output_type": "stream",
     "text": [
      "slope =  5.0\n"
     ]
    }
   ],
   "source": [
    "print('slope = ',  numerator/denominator )"
   ]
  },
  {
   "cell_type": "markdown",
   "metadata": {},
   "source": [
    "Then, we can use this computed slope to compute the intercept:"
   ]
  },
  {
   "cell_type": "code",
   "execution_count": 12,
   "metadata": {},
   "outputs": [
    {
     "name": "stdout",
     "output_type": "stream",
     "text": [
      "intercept = -1\n"
     ]
    }
   ],
   "source": [
    "# intercept = (mean of Y) - slope * (mean of X)\n",
    "print('intercept =', 9 - 5 * 2)"
   ]
  },
  {
   "cell_type": "markdown",
   "metadata": {},
   "source": [
    "(Food for thought: what if Y and X both have mean 0?)\n",
    "\n",
    "In summary, we have:\n",
    "\n",
    "**slope = 5, intercept = -1** \n",
    "\n",
    "Finally we can add the line to our plot from above:\n",
    "\n"
   ]
  },
  {
   "cell_type": "code",
   "execution_count": 13,
   "metadata": {},
   "outputs": [
    {
     "data": {
      "image/png": "[encoded data removed]",
      "text/plain": [
       "<Figure size 432x288 with 1 Axes>"
      ]
     },
     "metadata": {
      "needs_background": "light"
     },
     "output_type": "display_data"
    }
   ],
   "source": [
    "# X = np.array([0, 1, 2, 3, 4])\n",
    "# Y =  np.array([1, 3, 7, 13, 21])\n",
    "\n",
    "Y2 = 5 * X -1\n",
    "\n",
    "plt.plot(X, Y, 'go')\n",
    "plt.plot(X, Y2)\n",
    "\n",
    "plt.xlabel('X')\n",
    "plt.ylabel('Y')\n",
    "\n",
    "ax=plt.gca()\n",
    "ax.xaxis.set_major_locator(MultipleLocator(1))\n",
    "ax.yaxis.set_major_locator(MultipleLocator(5))\n",
    "\n",
    "plt.show()"
   ]
  },
  {
   "cell_type": "markdown",
   "metadata": {},
   "source": [
    "The solid black point included in this plot is the point (mean of X, mean of Y).  You’ll notice that this point falls exactly on the regression line! \n",
    "\n",
    "(Food for thought: is this always true? Hint: try plugging in (mean of X) as input into prediction = intercept + slope * input) where you use the formula for intercept). "
   ]
  }
 ],
 "metadata": {
  "kernelspec": {
   "display_name": "Python 3.9.5 64-bit",
   "language": "python",
   "name": "python3"
  },
  "language_info": {
   "codemirror_mode": {
    "name": "ipython",
    "version": 3
   },
   "file_extension": ".py",
   "mimetype": "text/x-python",
   "name": "python",
   "nbconvert_exporter": "python",
   "pygments_lexer": "ipython3",
   "version": "3.9.5"
  },
  "orig_nbformat": 4,
  "vscode": {
   "interpreter": {
    "hash": "25751e66e043df2b62dfc31b84f362b7b078bf80df219ee24f0914e16d057244"
   }
  }
 },
 "nbformat": 4,
 "nbformat_minor": 2
}
