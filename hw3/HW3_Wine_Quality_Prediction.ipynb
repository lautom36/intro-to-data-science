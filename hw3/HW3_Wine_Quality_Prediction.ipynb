{
  "cells": [
    {
      "cell_type": "markdown",
      "metadata": {
        "id": "mz0_QVkxCrX3"
      },
      "source": [
        "# **Homework 3: Wine Quality Prediction (Classification)**"
      ]
    },
    {
      "cell_type": "code",
      "execution_count": 128,
      "metadata": {
        "id": "SxwRwMfVlIrN"
      },
      "outputs": [],
      "source": [
        "Name = \"Tom Lau\"\n",
        "assert Name != \"\", 'Please enter your name in the above quotation marks, thanks!'\n",
        "\n",
        "A_number = \"A02274627\"\n",
        "assert A_number != \"\", 'Please enter your A-number in the above quotation marks, thanks!'\n",
        "\n",
        "Kaggle_username=\"lautom\"\n",
        "assert Kaggle_username != \"\", 'Please enter your Kaggle username in the above quotation marks, thanks!'"
      ]
    },
    {
      "cell_type": "markdown",
      "metadata": {
        "id": "ZeZnPAiwDRWG"
      },
      "source": [
        "\n",
        "In this homework, we aim to predict the wine quality by a neural network. In this sample code, we implement a barely work neural network, and your job is to implement the performance. You can find the meta data of this dataset [here](https://archive.ics.uci.edu/ml/datasets/wine). Please download the dataset either from [Kaggle](https://www.kaggle.com/t/957a7547ea0745b191ac74652c38211b) or Canvas and DO NOT use the original dataset as we slightly revise the data.\n",
        "\n",
        "Your jobs:\n",
        "\n",
        "1. Run sample code.\n",
        "\n",
        "2. **Make substantial improvements** to improve the accuracy.\n",
        "\n",
        "3. Submit the .IPYNB file to Canvas.\n",
        "    - Missing the output after execution may hurt your grade.\n",
        "\n",
        "4. Submit the generated \"pred.csv\" to the [inclass Kaggle competition](https://www.kaggle.com/t/957a7547ea0745b191ac74652c38211b). Your score will be based on the accuracy on the private dataset. Please check [Canvas](https://usu.instructure.com/courses/706364/assignments/3897628) for details.\n",
        "\n",
        "# **Hints**\n",
        "* Feature engineering (all features  or less features)\n",
        "* Feature normalization or standardization\n",
        "* DNN architecture (layers? dimension? activation function?)\n",
        "* Training (mini-batch? optimizer? learning rate?)\n",
        "* L1/L2 regularization\n",
        "\n",
        "# **Rules**\n",
        "\n",
        "- You should finish your homework on your own.\n",
        "- **You should not modify your prediction files manually.**\n",
        "- Do not share codes or prediction files with any living creatures.\n",
        "- **Do not search or use additional data.**"
      ]
    },
    {
      "cell_type": "markdown",
      "metadata": {
        "id": "nfrVxqJanGpE"
      },
      "source": [
        "**Please describe your improvements here**\n",
        "\n",
        "- One\n",
        "- Two\n",
        "- Three\n",
        "- Four"
      ]
    },
    {
      "cell_type": "markdown",
      "metadata": {
        "id": "F4Ag_jkzqSzW"
      },
      "source": [
        "\n"
      ]
    },
    {
      "cell_type": "markdown",
      "metadata": {
        "id": "Jx3x1nDkG-Uy"
      },
      "source": [
        "# **Download Data**\n",
        "\n",
        "\n",
        "You can download data from [kaggle](https://www.kaggle.com/t/957a7547ea0745b191ac74652c38211b). If you use Google Colab, you should upload the data files to the same workspace."
      ]
    },
    {
      "cell_type": "code",
      "execution_count": 129,
      "metadata": {
        "id": "tMj55YDKG6ch"
      },
      "outputs": [],
      "source": [
        "train_path = './wine_train.csv'  # path to training data\n",
        "test_path = './wine_test.csv'   # path to testing data"
      ]
    },
    {
      "cell_type": "markdown",
      "metadata": {
        "id": "wS_4-77xHk44"
      },
      "source": [
        "# **Import Some Packages**"
      ]
    },
    {
      "cell_type": "code",
      "execution_count": 130,
      "metadata": {
        "id": "k-onQd4JNA5H"
      },
      "outputs": [],
      "source": [
        "# PyTorch\n",
        "import torch\n",
        "import torch.nn as nn\n",
        "from torch.utils.data import Dataset, DataLoader\n",
        "\n",
        "# For data preprocess\n",
        "import numpy as np\n",
        "import csv\n",
        "import os\n",
        "\n",
        "# For plotting\n",
        "import matplotlib.pyplot as plt\n",
        "from matplotlib.pyplot import figure\n",
        "\n",
        "myseed = 42  # set a random seed for reproducibility\n",
        "torch.backends.cudnn.deterministic = True\n",
        "torch.backends.cudnn.benchmark = False\n",
        "np.random.seed(myseed)\n",
        "torch.manual_seed(myseed)\n",
        "if torch.cuda.is_available():\n",
        "    torch.cuda.manual_seed_all(myseed)"
      ]
    },
    {
      "cell_type": "markdown",
      "metadata": {
        "id": "BtE3b6JEH7rw"
      },
      "source": [
        "# **Some Utilities**\n",
        "\n",
        "You do not need to modify this part."
      ]
    },
    {
      "cell_type": "code",
      "execution_count": 131,
      "metadata": {
        "id": "FWMT3uf1NGQp"
      },
      "outputs": [],
      "source": [
        "def get_device():\n",
        "    ''' Get device (if GPU is available, use GPU) '''\n",
        "    return 'cuda' if torch.cuda.is_available() else 'cpu'\n",
        "\n",
        "def plot_learning_curve(loss_record, title=''):\n",
        "    ''' Plot learning curve of your DNN (train & dev loss) '''\n",
        "    total_steps = len(loss_record['train'])\n",
        "    x_1 = range(total_steps)\n",
        "    x_2 = x_1[::len(loss_record['train']) // len(loss_record['dev'])]\n",
        "    figure(figsize=(6, 4))\n",
        "    plt.plot(x_1, loss_record['train'], c='tab:red', label='train')\n",
        "    plt.plot(x_2, loss_record['dev'], c='tab:cyan', label='dev')\n",
        "    plt.ylim(0.0, 5.)\n",
        "    plt.xlabel('Training steps')\n",
        "    plt.ylabel('Cross entropy loss')\n",
        "    plt.title('Learning curve of {}'.format(title))\n",
        "    plt.legend()\n",
        "    plt.show()"
      ]
    },
    {
      "cell_type": "markdown",
      "metadata": {
        "id": "39U_XFX6KOoj"
      },
      "source": [
        "# **Preprocess**\n",
        "\n",
        "We have three kinds of datasets:\n",
        "* `train`: for training\n",
        "* `dev`: for validation\n",
        "* `test`: for testing (w/o target value)"
      ]
    },
    {
      "cell_type": "markdown",
      "metadata": {
        "id": "TQ-MdwpLL7Dt"
      },
      "source": [
        "## **Dataset**\n",
        "\n",
        "The `WineDataset` below does:\n",
        "* read `.csv` files\n",
        "* extract features"
      ]
    },
    {
      "cell_type": "code",
      "execution_count": 132,
      "metadata": {
        "id": "0zlpIp9ANJRU"
      },
      "outputs": [],
      "source": [
        "class WineDataset(Dataset):\n",
        "    ''' Dataset for loading and preprocessing the Wine dataset '''\n",
        "\n",
        "    def __init__(self, path, mode='train', target_only=False):\n",
        "        self.mode = mode\n",
        "\n",
        "        # Read data into numpy arrays\n",
        "        with open(path, 'r') as fp:\n",
        "            data = list(csv.reader(fp))\n",
        "            data = np.array(data[1:]).astype(float)\n",
        "\n",
        "        if not target_only:\n",
        "            feats = list(range(11))\n",
        "        else:\n",
        "            ''' \n",
        "                | fixed acidity       = 0 | volatile acidity    = 1 | citric acid = 2 | residual sugar = 3 | chlorides = 4 | \n",
        "                | free sulfur dioxide = 5 | total sulfur dioxid = 6 | density     = 7 | pH             = 8 | sulphates = 9 | alchohol = 10 |\n",
        "            '''\n",
        "            \n",
        "            # TODO: dropped density\n",
        "            feats = [0, 1, 2, 3, 4, 5, 6, 8, 9, 10] # dropped density\n",
        "            pass\n",
        "\n",
        "        if mode == 'test':\n",
        "            # Testing data\n",
        "            data = data[:, feats]\n",
        "            self.data = torch.FloatTensor(data)\n",
        "        else:\n",
        "            # Training data (train/dev sets)\n",
        "            target = data[:, -1]\n",
        "            data = data[:, feats]\n",
        "\n",
        "            # Splitting training data into train & dev sets\n",
        "            if mode == 'train':\n",
        "                indices = [i for i in range(len(data)) if i % 10 != 0]\n",
        "            elif mode == 'dev':\n",
        "                indices = [i for i in range(len(data)) if i % 10 == 0]\n",
        "\n",
        "            # Convert data into PyTorch tensors\n",
        "            self.data = torch.FloatTensor(data[indices])\n",
        "            self.target = torch.FloatTensor(target[indices])\n",
        "\n",
        "        self.dim = self.data.shape[1]\n",
        "\n",
        "        print('Finished reading the {} set of Wine Dataset ({} samples found, each dim = {})'.format(mode, len(self.data), self.dim))\n",
        "\n",
        "    def __getitem__(self, index):\n",
        "        # Returns one sample at a time\n",
        "        if self.mode in ['train', 'dev']:\n",
        "            # For training\n",
        "            return self.data[index], self.target[index]\n",
        "        else:\n",
        "            # For testing (no target)\n",
        "            return self.data[index]\n",
        "\n",
        "    def __len__(self):\n",
        "        # Returns the size of the dataset\n",
        "        return len(self.data)\n"
      ]
    },
    {
      "cell_type": "markdown",
      "metadata": {
        "id": "AlhTlkE7MDo3"
      },
      "source": [
        "## **DataLoader**\n",
        "\n",
        "A `DataLoader` loads data from a given `Dataset` into batches.\n"
      ]
    },
    {
      "cell_type": "code",
      "execution_count": 133,
      "metadata": {
        "id": "hlhLk5t6MBX3"
      },
      "outputs": [],
      "source": [
        "def prep_dataloader(path, mode, batch_size, n_jobs=0, target_only=False):\n",
        "    ''' Generates a dataset, then is put into a dataloader. '''\n",
        "    dataset = WineDataset(path, mode=mode, target_only=target_only)  # Construct dataset\n",
        "    dataloader = DataLoader(dataset, batch_size, shuffle=(mode == 'train'), drop_last=False,num_workers=n_jobs, pin_memory=True)  # Construct dataloader                          \n",
        "    return dataloader"
      ]
    },
    {
      "cell_type": "markdown",
      "metadata": {
        "id": "SGuycwR0MeQB"
      },
      "source": [
        "# **Deep Neural Network**\n",
        "\n",
        "`NeuralNet` is an `nn.Module` designed for calssification.\n",
        "The DNN consists of 2 fully-connected layers with ReLU activation.\n",
        "This module also included a function `cal_loss` for calculating loss.\n"
      ]
    },
    {
      "cell_type": "code",
      "execution_count": 134,
      "metadata": {
        "id": "49-uXYovOAI0"
      },
      "outputs": [],
      "source": [
        "class NeuralNet(nn.Module):\n",
        "    ''' A simple fully-connected deep neural network '''\n",
        "    def __init__(self, input_dim):\n",
        "        super(NeuralNet, self).__init__()\n",
        "\n",
        "        # Define your neural network here\n",
        "        # TODO: How to modify this model to achieve better performance?\n",
        "        # maybe try nn.conv2d?\n",
        "        self.net = nn.Sequential(\n",
        "            nn.Linear(input_dim, 64),\n",
        "            nn.ReLU(),\n",
        "            nn.Linear(64, 128),\n",
        "            nn.ReLU(),\n",
        "            nn.Linear(128, 3)\n",
        "        )\n",
        "\n",
        "        # Cross entropy loss\n",
        "        self.criterion = nn.CrossEntropyLoss()\n",
        "\n",
        "    def forward(self, x):\n",
        "        ''' Given input of size (batch_size x input_dim), compute output of the network '''\n",
        "        return self.net(x).squeeze(1)\n",
        "\n",
        "    def cal_loss(self, pred, target):\n",
        "        ''' Calculate loss '''\n",
        "        # TODO: you may implement L1/L2 regularization here\n",
        "        # L2 reg -> RSS(w) + lambda||w||_2\n",
        "        # RSS(w) -> measure of fit\n",
        "        # ||w||_2 -> measure of magnitude of coefficents\n",
        "        # lambda -> tuneable perameter\n",
        "        # residuals = (pred - target)**2\n",
        "        # rss = float(residuals.sum())\n",
        "        # penLambda = 1\n",
        "        \n",
        "        return self.criterion(pred, target)"
      ]
    },
    {
      "cell_type": "markdown",
      "metadata": {
        "id": "DvFWVjZ5Nvga"
      },
      "source": [
        "# **Train/Dev/Test**"
      ]
    },
    {
      "cell_type": "markdown",
      "metadata": {
        "id": "MAM8QecJOyqn"
      },
      "source": [
        "## **Training**"
      ]
    },
    {
      "cell_type": "code",
      "execution_count": 135,
      "metadata": {
        "id": "lOqcmYzMO7jB"
      },
      "outputs": [],
      "source": [
        "def train(tr_set, dv_set, model, config, device):\n",
        "    ''' DNN training '''\n",
        "\n",
        "    n_epochs = config['n_epochs']  # Maximum number of epochs\n",
        "\n",
        "    # Setup optimizer\n",
        "    optimizer = getattr(torch.optim, config['optimizer'])(\n",
        "        model.parameters(), **config['optim_hparas'])\n",
        "\n",
        "    min_ce = 1000.\n",
        "    loss_record = {'train': [], 'dev': []}      # for recording training loss\n",
        "    early_stop_cnt = 0\n",
        "    epoch = 0\n",
        "    while epoch < n_epochs:\n",
        "        model.train()                           # set model to training mode\n",
        "        for x, y in tr_set:                     # iterate through the dataloader\n",
        "            optimizer.zero_grad()               # set gradient to zero\n",
        "            x, y = x.to(device), y.long().to(device)   # move data to device (cpu/cuda)\n",
        "            pred = model(x)                     # forward pass (compute output)\n",
        "            crossentropy_loss = model.cal_loss(pred, y)  # compute loss\n",
        "            crossentropy_loss.backward()                 # compute gradient (backpropagation)\n",
        "            optimizer.step()                    # update model with optimizer\n",
        "            loss_record['train'].append(crossentropy_loss.detach().cpu().item())\n",
        "\n",
        "        # After each epoch, test your model on the validation (development) set.\n",
        "        dev_ce= dev(dv_set, model, device)\n",
        "        if dev_ce < min_ce:\n",
        "            # Save model if your model improved\n",
        "            min_ce = dev_ce\n",
        "            print('Saving model (epoch = {:4d}, loss = {:.4f})'.format(epoch + 1, min_ce))\n",
        "            torch.save(model.state_dict(), config['save_path'])  # Save model to specified path\n",
        "            early_stop_cnt = 0\n",
        "        else:\n",
        "            early_stop_cnt += 1\n",
        "\n",
        "        epoch += 1\n",
        "        loss_record['dev'].append(dev_ce)\n",
        "        if early_stop_cnt > config['early_stop']:\n",
        "            # Stop training if your model stops improving for \"config['early_stop']\" epochs.\n",
        "            break\n",
        "\n",
        "    print('Finished training after {} epochs'.format(epoch))\n",
        "    return min_ce, loss_record"
      ]
    },
    {
      "cell_type": "markdown",
      "metadata": {
        "id": "0hSd4Bn3O2PL"
      },
      "source": [
        "## **Validation**"
      ]
    },
    {
      "cell_type": "code",
      "execution_count": 136,
      "metadata": {
        "id": "yrxrD3YsN3U2"
      },
      "outputs": [],
      "source": [
        "def dev(dv_set, model, device):\n",
        "    model.eval()                                # set model to evalutation mode\n",
        "    total_loss = 0\n",
        "    for x, y in dv_set:                         # iterate through the dataloader\n",
        "        x, y = x.to(device), y.long().to(device)       # move data to device (cpu/cuda)\n",
        "        with torch.no_grad():                   # disable gradient calculation\n",
        "            pred = model(x)                     # forward pass (compute output)\n",
        "            ce_loss = model.cal_loss(pred, y)  # compute loss\n",
        "        total_loss += ce_loss.detach().cpu().item() * len(x)  # accumulate loss\n",
        "    total_loss = total_loss / len(dv_set.dataset)              # compute averaged loss\n",
        "\n",
        "    return total_loss"
      ]
    },
    {
      "cell_type": "markdown",
      "metadata": {
        "id": "g0pdrhQAO41L"
      },
      "source": [
        "## **Testing**"
      ]
    },
    {
      "cell_type": "code",
      "execution_count": 137,
      "metadata": {
        "id": "aSBMRFlYN5tB"
      },
      "outputs": [],
      "source": [
        "def test(tt_set, model, device):\n",
        "    model.eval()                                # set model to evalutation mode\n",
        "    preds = []\n",
        "    for x in tt_set:                            # iterate through the dataloader\n",
        "        x = x.to(device)                        # move data to device (cpu/cuda)\n",
        "        with torch.no_grad():                   # disable gradient calculation\n",
        "            pred = model(x)                     # forward pass (compute output)\n",
        "            preds.append(pred.detach().cpu())   # collect prediction\n",
        "    preds = torch.cat(preds, dim=0).numpy()     # concatenate all predictions and convert to a numpy array\n",
        "    return preds"
      ]
    },
    {
      "cell_type": "markdown",
      "metadata": {
        "id": "SvckkF5dvf0j"
      },
      "source": [
        "# **Setup Hyper-parameters**\n",
        "\n",
        "`config` contains hyper-parameters for training and the path to save your model."
      ]
    },
    {
      "cell_type": "code",
      "execution_count": 138,
      "metadata": {
        "id": "NPXpdumwPjE7"
      },
      "outputs": [],
      "source": [
        "device = get_device()                 # get the current available device ('cpu' or 'cuda')\n",
        "os.makedirs('models', exist_ok=True)  # The trained model will be saved to ./models/\n",
        "target_only = True                    # TODO: select features dropped density\n",
        "\n",
        "# TODO: How to tune these hyper-parameters to improve your model's performance?\n",
        "config = {\n",
        "    'n_epochs': 1000,                # maximum number of epochs -> og: 1000\n",
        "    'batch_size': 100,               # mini-batch size for dataloader -> og: 100\n",
        "    'optimizer': 'SGD',              # optimization algorithm (optimizer in torch.optim) -> og: SGD\n",
        "    'optim_hparas': {                # hyper-parameters for the optimizer (depends on which optimizer you are using)\n",
        "        'lr': 0.001,                 # learning rate of SGD -> og: 0.001\n",
        "        'momentum': 0.9              # momentum for SGD -> og: 0.9\n",
        "    },\n",
        "    'early_stop': 200,               # early stopping epochs (the number epochs since your model's last improvement) -> og: 200\n",
        "    'save_path': 'models/model.pth'  # your model will be saved here\n",
        "}"
      ]
    },
    {
      "cell_type": "markdown",
      "metadata": {
        "id": "6j1eOV3TOH-j"
      },
      "source": [
        "# **Load data and model**"
      ]
    },
    {
      "cell_type": "code",
      "execution_count": 139,
      "metadata": {
        "colab": {
          "base_uri": "https://localhost:8080/"
        },
        "id": "eNrYBMmePLKm",
        "outputId": "ddda1ef8-9cc1-4cc2-bc20-c4db0cae41a7"
      },
      "outputs": [
        {
          "name": "stdout",
          "output_type": "stream",
          "text": [
            "Finished reading the train set of Wine Dataset (2700 samples found, each dim = 10)\n",
            "Finished reading the dev set of Wine Dataset (300 samples found, each dim = 10)\n",
            "Finished reading the test set of Wine Dataset (1500 samples found, each dim = 10)\n"
          ]
        }
      ],
      "source": [
        "tr_set = prep_dataloader(train_path, 'train', config['batch_size'], target_only=target_only)\n",
        "dv_set = prep_dataloader(train_path, 'dev', config['batch_size'], target_only=target_only)\n",
        "tt_set = prep_dataloader(test_path, 'test', config['batch_size'], target_only=target_only)"
      ]
    },
    {
      "cell_type": "code",
      "execution_count": 140,
      "metadata": {
        "id": "FHylSirLP9oh"
      },
      "outputs": [],
      "source": [
        "model = NeuralNet(tr_set.dataset.dim).to(device)  # Construct model and move to device"
      ]
    },
    {
      "cell_type": "markdown",
      "metadata": {
        "id": "sX2B_zgSOPTJ"
      },
      "source": [
        "# **Start Training!**"
      ]
    },
    {
      "cell_type": "code",
      "execution_count": 141,
      "metadata": {
        "colab": {
          "base_uri": "https://localhost:8080/"
        },
        "id": "GrEbUxazQAAZ",
        "outputId": "5c7faf57-ef39-4ac0-b3a6-701e06d3d730"
      },
      "outputs": [
        {
          "name": "stdout",
          "output_type": "stream",
          "text": [
            "Saving model (epoch =    1, loss = 1.0259)\n",
            "Saving model (epoch =    2, loss = 1.0073)\n",
            "Saving model (epoch =    3, loss = 0.9816)\n",
            "Saving model (epoch =    6, loss = 0.9632)\n",
            "Saving model (epoch =   10, loss = 0.9584)\n",
            "Saving model (epoch =   12, loss = 0.9578)\n",
            "Saving model (epoch =   14, loss = 0.9564)\n",
            "Saving model (epoch =   15, loss = 0.9547)\n",
            "Saving model (epoch =   19, loss = 0.9525)\n",
            "Saving model (epoch =   20, loss = 0.9506)\n",
            "Saving model (epoch =   22, loss = 0.9480)\n",
            "Saving model (epoch =   27, loss = 0.9437)\n",
            "Saving model (epoch =   31, loss = 0.9405)\n",
            "Saving model (epoch =   36, loss = 0.9360)\n",
            "Saving model (epoch =   40, loss = 0.9333)\n",
            "Saving model (epoch =   42, loss = 0.9283)\n",
            "Saving model (epoch =   59, loss = 0.9262)\n",
            "Saving model (epoch =   65, loss = 0.9203)\n",
            "Saving model (epoch =   74, loss = 0.9184)\n",
            "Saving model (epoch =   83, loss = 0.9116)\n",
            "Saving model (epoch =   90, loss = 0.9111)\n",
            "Saving model (epoch =   93, loss = 0.9091)\n",
            "Saving model (epoch =   97, loss = 0.9066)\n",
            "Saving model (epoch =  124, loss = 0.9063)\n",
            "Saving model (epoch =  146, loss = 0.9054)\n",
            "Saving model (epoch =  151, loss = 0.9046)\n",
            "Saving model (epoch =  160, loss = 0.9002)\n",
            "Saving model (epoch =  161, loss = 0.8989)\n",
            "Saving model (epoch =  203, loss = 0.8985)\n",
            "Saving model (epoch =  210, loss = 0.8941)\n",
            "Saving model (epoch =  225, loss = 0.8938)\n",
            "Saving model (epoch =  313, loss = 0.8929)\n",
            "Saving model (epoch =  317, loss = 0.8910)\n",
            "Saving model (epoch =  348, loss = 0.8907)\n",
            "Saving model (epoch =  368, loss = 0.8898)\n",
            "Saving model (epoch =  422, loss = 0.8874)\n",
            "Finished training after 623 epochs\n"
          ]
        }
      ],
      "source": [
        "model_loss, model_loss_record = train(tr_set, dv_set, model, config, device)"
      ]
    },
    {
      "cell_type": "code",
      "execution_count": 142,
      "metadata": {
        "colab": {
          "base_uri": "https://localhost:8080/",
          "height": 295
        },
        "id": "hsNO9nnXQBvP",
        "outputId": "222b3112-3709-493b-b64e-531990eb5a82"
      },
      "outputs": [
        {
          "data": {
            "image/png": "[encoded data removed]",
            "text/plain": [
              "<Figure size 600x400 with 1 Axes>"
            ]
          },
          "metadata": {},
          "output_type": "display_data"
        }
      ],
      "source": [
        "plot_learning_curve(model_loss_record, title='deep model')"
      ]
    },
    {
      "cell_type": "code",
      "execution_count": 143,
      "metadata": {
        "colab": {
          "base_uri": "https://localhost:8080/"
        },
        "id": "3iZTVn5WQFpX",
        "outputId": "d698c545-51b3-4b52-832d-72185d73d020"
      },
      "outputs": [
        {
          "data": {
            "text/plain": [
              "<All keys matched successfully>"
            ]
          },
          "execution_count": 143,
          "metadata": {},
          "output_type": "execute_result"
        }
      ],
      "source": [
        "del model\n",
        "model = NeuralNet(tr_set.dataset.dim).to(device)\n",
        "ckpt = torch.load(config['save_path'], map_location='cpu')  # Load your best model\n",
        "model.load_state_dict(ckpt)"
      ]
    },
    {
      "cell_type": "markdown",
      "metadata": {
        "id": "aQikz3IPiyPf"
      },
      "source": [
        "# **Testing**\n",
        "The predictions of your model on testing set will be stored at `pred.csv`."
      ]
    },
    {
      "cell_type": "code",
      "execution_count": 144,
      "metadata": {
        "colab": {
          "base_uri": "https://localhost:8080/"
        },
        "id": "O8cTuQjQQOon",
        "outputId": "5220e7e2-fdad-49e0-f75a-a6544ce79a9f"
      },
      "outputs": [
        {
          "name": "stdout",
          "output_type": "stream",
          "text": [
            "[1 0 1 ... 1 0 1]\n",
            "Saving results to pred.csv\n"
          ]
        }
      ],
      "source": [
        "def save_pred(preds, file):\n",
        "    ''' Save predictions to specified file '''\n",
        "    print('Saving results to {}'.format(file))\n",
        "    with open(file, 'w') as fp:\n",
        "        writer = csv.writer(fp)\n",
        "        writer.writerow(['id', 'tested_positive'])\n",
        "        for i, p in enumerate(preds):\n",
        "            writer.writerow([i, p])\n",
        "\n",
        "preds = test(tt_set, model, device)  # predict the quality of wine cases with your model\n",
        "preds = np.argmax(preds, axis=1) # trasfer output to predicted labels\n",
        "print(preds)\n",
        "save_pred(preds, 'pred.csv')         # save prediction file to pred.csv"
      ]
    },
    {
      "cell_type": "markdown",
      "metadata": {
        "id": "_uuRfprxlIrV"
      },
      "source": [
        "## Submission instructions \n",
        "\n",
        "**PLEASE READ:** When you are ready to submit your assignment do the following:\n",
        "\n",
        "1. Run all cells in your notebook to make sure there are no errors by doing `Kernel -> Restart Kernel and Clear All Outputs` and then `Run -> Run All Cells`.\n",
        "2. Notebooks with cell execution numbers out of order will have marks deducted. Notebooks without the output displayed may not be graded at all (because we need to see the output in order to grade your work).\n",
        "3. Please keep your notebook clean and remove any throwaway code.\n",
        "4. **Please upload the pred.csv to the [class competition](https://www.kaggle.com/t/957a7547ea0745b191ac74652c38211b).** The score of this homework is based on the result on the private datset."
      ]
    },
    {
      "cell_type": "markdown",
      "metadata": {
        "id": "9tmCwXgpot3t"
      },
      "source": [
        "# **Reference**\n",
        "This code is adapted from Heng-Jui Chang @ NTUEE (https://github.com/ga642381/ML2021-Spring/blob/main/HW01/HW01.ipynb).  "
      ]
    }
  ],
  "metadata": {
    "accelerator": "GPU",
    "colab": {
      "collapsed_sections": [],
      "provenance": []
    },
    "kernelspec": {
      "display_name": "Python 3.9.5 64-bit",
      "language": "python",
      "name": "python3"
    },
    "language_info": {
      "codemirror_mode": {
        "name": "ipython",
        "version": 3
      },
      "file_extension": ".py",
      "mimetype": "text/x-python",
      "name": "python",
      "nbconvert_exporter": "python",
      "pygments_lexer": "ipython3",
      "version": "3.9.5"
    },
    "vscode": {
      "interpreter": {
        "hash": "25751e66e043df2b62dfc31b84f362b7b078bf80df219ee24f0914e16d057244"
      }
    }
  },
  "nbformat": 4,
  "nbformat_minor": 0
}
